{
  "nbformat": 4,
  "nbformat_minor": 0,
  "metadata": {
    "colab": {
      "provenance": []
    },
    "kernelspec": {
      "name": "python3",
      "display_name": "Python 3"
    },
    "language_info": {
      "name": "python"
    }
  },
  "cells": [
    {
      "cell_type": "markdown",
      "metadata": {
        "id": "qSYCQcTxGsT5"
      },
      "source": [
        "# Trabalho Presencial - AV1\n",
        "**Aluno**: *Gabriely Di Folco Rocha*"
      ]
    },
    {
      "cell_type": "markdown",
      "source": [
        "Link da base utilizada: https://basedosdados.org/dataset/9fa532fb-5681-4903-b99d-01dc45fd527a?table=e3016987-c3cd-4e02-8c5d-78ec1ae516ba"
      ],
      "metadata": {
        "id": "zy3URcUqw45p"
      }
    },
    {
      "cell_type": "code",
      "execution_count": 76,
      "metadata": {
        "id": "KiDKkEpqgqd1"
      },
      "outputs": [],
      "source": [
        "import altair as alt\n",
        "import pandas as pd\n",
        "import numpy as np\n",
        "import nbconvert"
      ]
    },
    {
      "cell_type": "code",
      "source": [
        "df = pd.read_csv('/content/br_ibge_pnadc_ano_regiao_grupo_idade.csv')\n",
        "\n",
        "print(df.head())"
      ],
      "metadata": {
        "colab": {
          "base_uri": "https://localhost:8080/"
        },
        "id": "czsfJ0BUjPQH",
        "outputId": "74d040b3-22c5-49f6-ceaf-8242f24f50c9"
      },
      "execution_count": 77,
      "outputs": [
        {
          "output_type": "stream",
          "name": "stdout",
          "text": [
            "    ano  id_regiao   sexo   grupo_idade   populacao\n",
            "0  2012          1  Total         Total  16452000.0\n",
            "1  2012          1  Total    0 a 4 anos   1485000.0\n",
            "2  2012          1  Total   5 a 13 anos   3092000.0\n",
            "3  2012          1  Total    5 a 9 anos   1648000.0\n",
            "4  2012          1  Total  10 a 13 anos   1444000.0\n"
          ]
        }
      ]
    },
    {
      "cell_type": "markdown",
      "source": [
        "O dataframe escolhido conta com 5 variáveis: ano, id_regiao, sexo, grupo_idade e populacao. Optei por renomear a coluna id_regiao como apenas regiao e substituir seus códigos pela região que representam segundo o IBGE, como mostra o mapeamento abaixo."
      ],
      "metadata": {
        "id": "dqWgTPBErQ3X"
      }
    },
    {
      "cell_type": "code",
      "source": [
        "df = df.rename(columns={'id_regiao': 'regiao'})\n",
        "\n",
        "mapeamento_regioes = {\n",
        "    3: 'sudeste',\n",
        "    4: 'sul',\n",
        "    5: 'centro-oeste',\n",
        "    1: 'norte',\n",
        "    2: 'nordeste'\n",
        "}\n",
        "\n",
        "df['regiao'] = df['regiao'].map(mapeamento_regioes)\n",
        "\n",
        "print(df.head())"
      ],
      "metadata": {
        "id": "x1hFIi8vrF93",
        "colab": {
          "base_uri": "https://localhost:8080/"
        },
        "outputId": "19b255ac-00a3-4ada-86c7-7a269af14649"
      },
      "execution_count": 78,
      "outputs": [
        {
          "output_type": "stream",
          "name": "stdout",
          "text": [
            "    ano regiao   sexo   grupo_idade   populacao\n",
            "0  2012  norte  Total         Total  16452000.0\n",
            "1  2012  norte  Total    0 a 4 anos   1485000.0\n",
            "2  2012  norte  Total   5 a 13 anos   3092000.0\n",
            "3  2012  norte  Total    5 a 9 anos   1648000.0\n",
            "4  2012  norte  Total  10 a 13 anos   1444000.0\n"
          ]
        }
      ]
    },
    {
      "cell_type": "markdown",
      "source": [
        "1.   ano: Quantitativa e discreta em valores inteiros de 2012 a 2019\n",
        "2.   regiao: Categórica e nominal\n",
        "3.   sexo: Categórica e nominal\n",
        "4.   grupo_idade: Categórica e ordinal\n",
        "5.   populacao: Quantitativa e contínua\n",
        "\n",
        "\n",
        "\n",
        "\n",
        "\n",
        "\n"
      ],
      "metadata": {
        "id": "YsIRRR_z0Kvv"
      }
    },
    {
      "cell_type": "markdown",
      "source": [
        "Para simplificar a análise, inicialmente descartei os recortes de gênero e idade do DataFrame, preserevando apenas a população por ano e região, no index original."
      ],
      "metadata": {
        "id": "Vwhe1u1IbzIj"
      }
    },
    {
      "cell_type": "code",
      "source": [
        "# Filtrar linhas onde 'sexo' e 'grupo_idade' são \"Total\"\n",
        "filtered_df = df[(df[\"sexo\"] == \"Total\") & (df[\"grupo_idade\"] == \"Total\")].copy()\n",
        "\n",
        "# Reorganizar as colunas (se necessário)\n",
        "filtered_df = filtered_df[[\"ano\", \"regiao\", \"populacao\"]]\n",
        "\n",
        "# Mostrar o resultado\n",
        "print(filtered_df)"
      ],
      "metadata": {
        "colab": {
          "base_uri": "https://localhost:8080/"
        },
        "id": "-M7PfncE4IHv",
        "outputId": "cb194c05-ef6b-4392-83c2-0a07fe5ae6bc"
      },
      "execution_count": 101,
      "outputs": [
        {
          "output_type": "stream",
          "name": "stdout",
          "text": [
            "       ano        regiao   populacao\n",
            "0     2012         norte  16452000.0\n",
            "51    2013         norte  16687000.0\n",
            "102   2014         norte  16925000.0\n",
            "153   2015         norte  17164000.0\n",
            "204   2016         norte  17392000.0\n",
            "255   2017         norte  17625000.0\n",
            "306   2018         norte  17871000.0\n",
            "357   2019         norte  18113000.0\n",
            "408   2012      nordeste  54741000.0\n",
            "459   2013      nordeste  55050000.0\n",
            "510   2014      nordeste  55361000.0\n",
            "561   2015      nordeste  55688000.0\n",
            "612   2016      nordeste  55997000.0\n",
            "663   2017      nordeste  56300000.0\n",
            "714   2018      nordeste  56618000.0\n",
            "765   2019      nordeste  56928000.0\n",
            "816   2012       sudeste  83536000.0\n",
            "867   2013       sudeste  84233000.0\n",
            "918   2014       sudeste  84937000.0\n",
            "969   2015       sudeste  85659000.0\n",
            "1020  2016       sudeste  86347000.0\n",
            "1071  2017       sudeste  87014000.0\n",
            "1122  2018       sudeste  87691000.0\n",
            "1173  2019       sudeste  88350000.0\n",
            "1224  2012           sul  28324000.0\n",
            "1275  2013           sul  28551000.0\n",
            "1326  2014           sul  28784000.0\n",
            "1377  2015           sul  29024000.0\n",
            "1428  2016           sul  29257000.0\n",
            "1479  2017           sul  29483000.0\n",
            "1530  2018           sul  29710000.0\n",
            "1581  2019           sul  29932000.0\n",
            "1632  2012  centro-oeste  14667000.0\n",
            "1683  2013  centro-oeste  14881000.0\n",
            "1734  2014  centro-oeste  15101000.0\n",
            "1785  2015  centro-oeste  15325000.0\n",
            "1836  2016  centro-oeste  15539000.0\n",
            "1887  2017  centro-oeste  15750000.0\n",
            "1938  2018  centro-oeste  15964000.0\n",
            "1989  2019  centro-oeste  16173000.0\n"
          ]
        }
      ]
    },
    {
      "cell_type": "markdown",
      "source": [
        "Aqui selecionamos apenas os recortes totais de sexo e grupo etário, para ter uma boa ideia da quantidade de pessoas em cada região"
      ],
      "metadata": {
        "id": "3c0nWDAu5y_Q"
      }
    },
    {
      "cell_type": "code",
      "source": [
        "brasil_df = (\n",
        "    filtered_df.groupby(\"ano\", as_index=False)\n",
        "    .agg({\"populacao\": \"sum\"})\n",
        "    .assign(regiao=\"Brasil\")\n",
        ")\n",
        "\n",
        "# Reorganizar as colunas e exibir o resultado\n",
        "brasil_df = brasil_df[[\"ano\", \"regiao\", \"populacao\"]]\n",
        "\n",
        "print(brasil_df)"
      ],
      "metadata": {
        "colab": {
          "base_uri": "https://localhost:8080/"
        },
        "id": "WGPpblWr6eKf",
        "outputId": "197b5cdc-f667-409c-a2d3-ad366dcaf9f8"
      },
      "execution_count": 93,
      "outputs": [
        {
          "output_type": "stream",
          "name": "stdout",
          "text": [
            "    ano  regiao    populacao\n",
            "0  2012  Brasil  197720000.0\n",
            "1  2013  Brasil  199402000.0\n",
            "2  2014  Brasil  201108000.0\n",
            "3  2015  Brasil  202860000.0\n",
            "4  2016  Brasil  204532000.0\n",
            "5  2017  Brasil  206172000.0\n",
            "6  2018  Brasil  207854000.0\n",
            "7  2019  Brasil  209496000.0\n"
          ]
        }
      ]
    },
    {
      "cell_type": "markdown",
      "source": [
        "Com as populações nacionais e por região em mãos, busquei maneiras de expressar a distribuição. A primeira foi um gráfico de pizza:"
      ],
      "metadata": {
        "id": "YPwnsT64cSnr"
      }
    },
    {
      "cell_type": "code",
      "source": [
        "df_2019 = filtered_df[df[\"ano\"] == 2019]\n",
        "\n",
        "chart = (\n",
        "    alt.Chart(df_2019)\n",
        "    .mark_arc()\n",
        "    .encode(\n",
        "        theta=alt.Theta(field=\"populacao\", type=\"quantitative\"),\n",
        "        color=alt.Color(field=\"regiao\", type=\"nominal\", title=\"Região\"),\n",
        "        tooltip=[\n",
        "            alt.Tooltip(\"regiao\", title=\"Região\"),\n",
        "            alt.Tooltip(\"populacao\", title=\"População\", format=\",.0f\"),\n",
        "        ],\n",
        "    )\n",
        "    .properties(\n",
        "        title=\"População do Brasil por Região (2019)\"\n",
        "    )\n",
        ")\n",
        "\n",
        "chart.show()"
      ],
      "metadata": {
        "colab": {
          "base_uri": "https://localhost:8080/",
          "height": 386
        },
        "id": "Qm5PRc7378NA",
        "outputId": "570ee020-efa8-4194-c55a-1d1784efc00b"
      },
      "execution_count": 128,
      "outputs": [
        {
          "output_type": "stream",
          "name": "stderr",
          "text": [
            "<ipython-input-128-feaa8eaa975a>:1: UserWarning: Boolean Series key will be reindexed to match DataFrame index.\n",
            "  df_2019 = filtered_df[df[\"ano\"] == 2019]\n"
          ]
        },
        {
          "output_type": "display_data",
          "data": {
            "text/html": [
              "\n",
              "<style>\n",
              "  #altair-viz-440943ef5387438bab319db56d929c26.vega-embed {\n",
              "    width: 100%;\n",
              "    display: flex;\n",
              "  }\n",
              "\n",
              "  #altair-viz-440943ef5387438bab319db56d929c26.vega-embed details,\n",
              "  #altair-viz-440943ef5387438bab319db56d929c26.vega-embed details summary {\n",
              "    position: relative;\n",
              "  }\n",
              "</style>\n",
              "<div id=\"altair-viz-440943ef5387438bab319db56d929c26\"></div>\n",
              "<script type=\"text/javascript\">\n",
              "  var VEGA_DEBUG = (typeof VEGA_DEBUG == \"undefined\") ? {} : VEGA_DEBUG;\n",
              "  (function(spec, embedOpt){\n",
              "    let outputDiv = document.currentScript.previousElementSibling;\n",
              "    if (outputDiv.id !== \"altair-viz-440943ef5387438bab319db56d929c26\") {\n",
              "      outputDiv = document.getElementById(\"altair-viz-440943ef5387438bab319db56d929c26\");\n",
              "    }\n",
              "\n",
              "    const paths = {\n",
              "      \"vega\": \"https://cdn.jsdelivr.net/npm/vega@5?noext\",\n",
              "      \"vega-lib\": \"https://cdn.jsdelivr.net/npm/vega-lib?noext\",\n",
              "      \"vega-lite\": \"https://cdn.jsdelivr.net/npm/vega-lite@5.20.1?noext\",\n",
              "      \"vega-embed\": \"https://cdn.jsdelivr.net/npm/vega-embed@6?noext\",\n",
              "    };\n",
              "\n",
              "    function maybeLoadScript(lib, version) {\n",
              "      var key = `${lib.replace(\"-\", \"\")}_version`;\n",
              "      return (VEGA_DEBUG[key] == version) ?\n",
              "        Promise.resolve(paths[lib]) :\n",
              "        new Promise(function(resolve, reject) {\n",
              "          var s = document.createElement('script');\n",
              "          document.getElementsByTagName(\"head\")[0].appendChild(s);\n",
              "          s.async = true;\n",
              "          s.onload = () => {\n",
              "            VEGA_DEBUG[key] = version;\n",
              "            return resolve(paths[lib]);\n",
              "          };\n",
              "          s.onerror = () => reject(`Error loading script: ${paths[lib]}`);\n",
              "          s.src = paths[lib];\n",
              "        });\n",
              "    }\n",
              "\n",
              "    function showError(err) {\n",
              "      outputDiv.innerHTML = `<div class=\"error\" style=\"color:red;\">${err}</div>`;\n",
              "      throw err;\n",
              "    }\n",
              "\n",
              "    function displayChart(vegaEmbed) {\n",
              "      vegaEmbed(outputDiv, spec, embedOpt)\n",
              "        .catch(err => showError(`Javascript Error: ${err.message}<br>This usually means there's a typo in your chart specification. See the javascript console for the full traceback.`));\n",
              "    }\n",
              "\n",
              "    if(typeof define === \"function\" && define.amd) {\n",
              "      requirejs.config({paths});\n",
              "      let deps = [\"vega-embed\"];\n",
              "      require(deps, displayChart, err => showError(`Error loading script: ${err.message}`));\n",
              "    } else {\n",
              "      maybeLoadScript(\"vega\", \"5\")\n",
              "        .then(() => maybeLoadScript(\"vega-lite\", \"5.20.1\"))\n",
              "        .then(() => maybeLoadScript(\"vega-embed\", \"6\"))\n",
              "        .catch(showError)\n",
              "        .then(() => displayChart(vegaEmbed));\n",
              "    }\n",
              "  })({\"config\": {\"view\": {\"continuousWidth\": 300, \"continuousHeight\": 300}}, \"data\": {\"name\": \"data-1fd004d6e13f3469d2ef60712b58ccb3\"}, \"mark\": {\"type\": \"arc\"}, \"encoding\": {\"color\": {\"field\": \"regiao\", \"title\": \"Regi\\u00e3o\", \"type\": \"nominal\"}, \"theta\": {\"field\": \"populacao\", \"type\": \"quantitative\"}, \"tooltip\": [{\"field\": \"regiao\", \"title\": \"Regi\\u00e3o\", \"type\": \"nominal\"}, {\"field\": \"populacao\", \"format\": \",.0f\", \"title\": \"Popula\\u00e7\\u00e3o\", \"type\": \"quantitative\"}]}, \"title\": \"Popula\\u00e7\\u00e3o do Brasil por Regi\\u00e3o (2019)\", \"$schema\": \"https://vega.github.io/schema/vega-lite/v5.20.1.json\", \"datasets\": {\"data-1fd004d6e13f3469d2ef60712b58ccb3\": [{\"ano\": 2019, \"regiao\": \"norte\", \"populacao\": 18113000.0}, {\"ano\": 2019, \"regiao\": \"nordeste\", \"populacao\": 56928000.0}, {\"ano\": 2019, \"regiao\": \"sudeste\", \"populacao\": 88350000.0}, {\"ano\": 2019, \"regiao\": \"sul\", \"populacao\": 29932000.0}, {\"ano\": 2019, \"regiao\": \"centro-oeste\", \"populacao\": 16173000.0}]}}, {\"mode\": \"vega-lite\"});\n",
              "</script>"
            ],
            "text/plain": [
              "alt.Chart(...)"
            ]
          },
          "metadata": {}
        }
      ]
    },
    {
      "cell_type": "markdown",
      "source": [
        "Testei então um histograma para a evolução da população em determinada região:"
      ],
      "metadata": {
        "id": "UiLLpQM0cm0i"
      }
    },
    {
      "cell_type": "code",
      "source": [
        "df_norte = filtered_df[(df['regiao'] == 'norte')]\n",
        "\n",
        "chart = alt.Chart(df_norte).mark_bar().encode(\n",
        "    x='ano:O',\n",
        "    y='populacao:Q',\n",
        "    tooltip=['ano', 'populacao']\n",
        ").properties(\n",
        "    title='Evolução da População da Região Norte (2012-2019)'\n",
        ")\n",
        "\n",
        "\n",
        "chart.show()\n"
      ],
      "metadata": {
        "colab": {
          "base_uri": "https://localhost:8080/",
          "height": 436
        },
        "id": "TH1aIjCXH65p",
        "outputId": "26ef4d27-474b-4a0e-803f-09f0d47915c5"
      },
      "execution_count": 127,
      "outputs": [
        {
          "output_type": "stream",
          "name": "stderr",
          "text": [
            "<ipython-input-127-d68716bd11e9>:1: UserWarning: Boolean Series key will be reindexed to match DataFrame index.\n",
            "  df_norte = filtered_df[(df['regiao'] == 'norte')]\n"
          ]
        },
        {
          "output_type": "display_data",
          "data": {
            "text/html": [
              "\n",
              "<style>\n",
              "  #altair-viz-a6bae45f49644e0f8f5a4a0baa52ea54.vega-embed {\n",
              "    width: 100%;\n",
              "    display: flex;\n",
              "  }\n",
              "\n",
              "  #altair-viz-a6bae45f49644e0f8f5a4a0baa52ea54.vega-embed details,\n",
              "  #altair-viz-a6bae45f49644e0f8f5a4a0baa52ea54.vega-embed details summary {\n",
              "    position: relative;\n",
              "  }\n",
              "</style>\n",
              "<div id=\"altair-viz-a6bae45f49644e0f8f5a4a0baa52ea54\"></div>\n",
              "<script type=\"text/javascript\">\n",
              "  var VEGA_DEBUG = (typeof VEGA_DEBUG == \"undefined\") ? {} : VEGA_DEBUG;\n",
              "  (function(spec, embedOpt){\n",
              "    let outputDiv = document.currentScript.previousElementSibling;\n",
              "    if (outputDiv.id !== \"altair-viz-a6bae45f49644e0f8f5a4a0baa52ea54\") {\n",
              "      outputDiv = document.getElementById(\"altair-viz-a6bae45f49644e0f8f5a4a0baa52ea54\");\n",
              "    }\n",
              "\n",
              "    const paths = {\n",
              "      \"vega\": \"https://cdn.jsdelivr.net/npm/vega@5?noext\",\n",
              "      \"vega-lib\": \"https://cdn.jsdelivr.net/npm/vega-lib?noext\",\n",
              "      \"vega-lite\": \"https://cdn.jsdelivr.net/npm/vega-lite@5.20.1?noext\",\n",
              "      \"vega-embed\": \"https://cdn.jsdelivr.net/npm/vega-embed@6?noext\",\n",
              "    };\n",
              "\n",
              "    function maybeLoadScript(lib, version) {\n",
              "      var key = `${lib.replace(\"-\", \"\")}_version`;\n",
              "      return (VEGA_DEBUG[key] == version) ?\n",
              "        Promise.resolve(paths[lib]) :\n",
              "        new Promise(function(resolve, reject) {\n",
              "          var s = document.createElement('script');\n",
              "          document.getElementsByTagName(\"head\")[0].appendChild(s);\n",
              "          s.async = true;\n",
              "          s.onload = () => {\n",
              "            VEGA_DEBUG[key] = version;\n",
              "            return resolve(paths[lib]);\n",
              "          };\n",
              "          s.onerror = () => reject(`Error loading script: ${paths[lib]}`);\n",
              "          s.src = paths[lib];\n",
              "        });\n",
              "    }\n",
              "\n",
              "    function showError(err) {\n",
              "      outputDiv.innerHTML = `<div class=\"error\" style=\"color:red;\">${err}</div>`;\n",
              "      throw err;\n",
              "    }\n",
              "\n",
              "    function displayChart(vegaEmbed) {\n",
              "      vegaEmbed(outputDiv, spec, embedOpt)\n",
              "        .catch(err => showError(`Javascript Error: ${err.message}<br>This usually means there's a typo in your chart specification. See the javascript console for the full traceback.`));\n",
              "    }\n",
              "\n",
              "    if(typeof define === \"function\" && define.amd) {\n",
              "      requirejs.config({paths});\n",
              "      let deps = [\"vega-embed\"];\n",
              "      require(deps, displayChart, err => showError(`Error loading script: ${err.message}`));\n",
              "    } else {\n",
              "      maybeLoadScript(\"vega\", \"5\")\n",
              "        .then(() => maybeLoadScript(\"vega-lite\", \"5.20.1\"))\n",
              "        .then(() => maybeLoadScript(\"vega-embed\", \"6\"))\n",
              "        .catch(showError)\n",
              "        .then(() => displayChart(vegaEmbed));\n",
              "    }\n",
              "  })({\"config\": {\"view\": {\"continuousWidth\": 300, \"continuousHeight\": 300}}, \"data\": {\"name\": \"data-917ad0d4818da2e2b14d713d9eedd5d0\"}, \"mark\": {\"type\": \"bar\"}, \"encoding\": {\"tooltip\": [{\"field\": \"ano\", \"type\": \"quantitative\"}, {\"field\": \"populacao\", \"type\": \"quantitative\"}], \"x\": {\"field\": \"ano\", \"type\": \"ordinal\"}, \"y\": {\"field\": \"populacao\", \"type\": \"quantitative\"}}, \"title\": \"Evolu\\u00e7\\u00e3o da Popula\\u00e7\\u00e3o da Regi\\u00e3o Norte (2012-2019)\", \"$schema\": \"https://vega.github.io/schema/vega-lite/v5.20.1.json\", \"datasets\": {\"data-917ad0d4818da2e2b14d713d9eedd5d0\": [{\"ano\": 2012, \"regiao\": \"norte\", \"populacao\": 16452000.0}, {\"ano\": 2013, \"regiao\": \"norte\", \"populacao\": 16687000.0}, {\"ano\": 2014, \"regiao\": \"norte\", \"populacao\": 16925000.0}, {\"ano\": 2015, \"regiao\": \"norte\", \"populacao\": 17164000.0}, {\"ano\": 2016, \"regiao\": \"norte\", \"populacao\": 17392000.0}, {\"ano\": 2017, \"regiao\": \"norte\", \"populacao\": 17625000.0}, {\"ano\": 2018, \"regiao\": \"norte\", \"populacao\": 17871000.0}, {\"ano\": 2019, \"regiao\": \"norte\", \"populacao\": 18113000.0}]}}, {\"mode\": \"vega-lite\"});\n",
              "</script>"
            ],
            "text/plain": [
              "alt.Chart(...)"
            ]
          },
          "metadata": {}
        }
      ]
    },
    {
      "cell_type": "markdown",
      "source": [
        "Concatenei o Brasil como região no dataframe original para aprofundar a análise:"
      ],
      "metadata": {
        "id": "exsPCMOAcyH7"
      }
    },
    {
      "cell_type": "code",
      "source": [
        "filtered_df = df[(df[\"sexo\"] == \"Total\") & (df[\"grupo_idade\"] == \"Total\")].copy()\n",
        "\n",
        "filtered_df = filtered_df[[\"ano\", \"regiao\", \"populacao\"]]\n",
        "\n",
        "brasil_df = (\n",
        "    filtered_df.groupby(\"ano\", as_index=False)\n",
        "    .agg({\"populacao\": \"sum\"})\n",
        "    .assign(regiao=\"Brasil\")\n",
        ")\n",
        "\n",
        "brasil_df = brasil_df[[\"ano\", \"regiao\", \"populacao\"]]\n",
        "\n",
        "complete_df = pd.concat([filtered_df, brasil_df], ignore_index=True)\n",
        "\n",
        "print(complete_df)\n"
      ],
      "metadata": {
        "colab": {
          "base_uri": "https://localhost:8080/"
        },
        "id": "oVmzXqjxI9_x",
        "outputId": "2827a110-f5c7-4345-e6f0-85308f324c6b"
      },
      "execution_count": 105,
      "outputs": [
        {
          "output_type": "stream",
          "name": "stdout",
          "text": [
            "     ano        regiao    populacao\n",
            "0   2012         norte   16452000.0\n",
            "1   2013         norte   16687000.0\n",
            "2   2014         norte   16925000.0\n",
            "3   2015         norte   17164000.0\n",
            "4   2016         norte   17392000.0\n",
            "5   2017         norte   17625000.0\n",
            "6   2018         norte   17871000.0\n",
            "7   2019         norte   18113000.0\n",
            "8   2012      nordeste   54741000.0\n",
            "9   2013      nordeste   55050000.0\n",
            "10  2014      nordeste   55361000.0\n",
            "11  2015      nordeste   55688000.0\n",
            "12  2016      nordeste   55997000.0\n",
            "13  2017      nordeste   56300000.0\n",
            "14  2018      nordeste   56618000.0\n",
            "15  2019      nordeste   56928000.0\n",
            "16  2012       sudeste   83536000.0\n",
            "17  2013       sudeste   84233000.0\n",
            "18  2014       sudeste   84937000.0\n",
            "19  2015       sudeste   85659000.0\n",
            "20  2016       sudeste   86347000.0\n",
            "21  2017       sudeste   87014000.0\n",
            "22  2018       sudeste   87691000.0\n",
            "23  2019       sudeste   88350000.0\n",
            "24  2012           sul   28324000.0\n",
            "25  2013           sul   28551000.0\n",
            "26  2014           sul   28784000.0\n",
            "27  2015           sul   29024000.0\n",
            "28  2016           sul   29257000.0\n",
            "29  2017           sul   29483000.0\n",
            "30  2018           sul   29710000.0\n",
            "31  2019           sul   29932000.0\n",
            "32  2012  centro-oeste   14667000.0\n",
            "33  2013  centro-oeste   14881000.0\n",
            "34  2014  centro-oeste   15101000.0\n",
            "35  2015  centro-oeste   15325000.0\n",
            "36  2016  centro-oeste   15539000.0\n",
            "37  2017  centro-oeste   15750000.0\n",
            "38  2018  centro-oeste   15964000.0\n",
            "39  2019  centro-oeste   16173000.0\n",
            "40  2012        Brasil  197720000.0\n",
            "41  2013        Brasil  199402000.0\n",
            "42  2014        Brasil  201108000.0\n",
            "43  2015        Brasil  202860000.0\n",
            "44  2016        Brasil  204532000.0\n",
            "45  2017        Brasil  206172000.0\n",
            "46  2018        Brasil  207854000.0\n",
            "47  2019        Brasil  209496000.0\n"
          ]
        }
      ]
    },
    {
      "cell_type": "markdown",
      "source": [
        "Comecei ensaiando um gráfico da evolução da população brasileira."
      ],
      "metadata": {
        "id": "co9G9gZaNM0y"
      }
    },
    {
      "cell_type": "code",
      "source": [
        "chart = alt.Chart(brasil_df).mark_line().encode(\n",
        "    x='ano:O',\n",
        "    y='populacao:Q',\n",
        "    color='regiao:N',\n",
        "    tooltip=['ano', 'regiao', 'populacao']\n",
        ").properties(\n",
        "    title='Evolução da População Brasileira'\n",
        ")\n",
        "\n",
        "chart.show()"
      ],
      "metadata": {
        "colab": {
          "base_uri": "https://localhost:8080/",
          "height": 399
        },
        "outputId": "89b0af15-e80b-4b41-b87f-ec88075b2856",
        "collapsed": true,
        "id": "brFAOew4I-QU"
      },
      "execution_count": 115,
      "outputs": [
        {
          "output_type": "display_data",
          "data": {
            "text/html": [
              "\n",
              "<style>\n",
              "  #altair-viz-c933694fc2b8472697d4983f0f2c5513.vega-embed {\n",
              "    width: 100%;\n",
              "    display: flex;\n",
              "  }\n",
              "\n",
              "  #altair-viz-c933694fc2b8472697d4983f0f2c5513.vega-embed details,\n",
              "  #altair-viz-c933694fc2b8472697d4983f0f2c5513.vega-embed details summary {\n",
              "    position: relative;\n",
              "  }\n",
              "</style>\n",
              "<div id=\"altair-viz-c933694fc2b8472697d4983f0f2c5513\"></div>\n",
              "<script type=\"text/javascript\">\n",
              "  var VEGA_DEBUG = (typeof VEGA_DEBUG == \"undefined\") ? {} : VEGA_DEBUG;\n",
              "  (function(spec, embedOpt){\n",
              "    let outputDiv = document.currentScript.previousElementSibling;\n",
              "    if (outputDiv.id !== \"altair-viz-c933694fc2b8472697d4983f0f2c5513\") {\n",
              "      outputDiv = document.getElementById(\"altair-viz-c933694fc2b8472697d4983f0f2c5513\");\n",
              "    }\n",
              "\n",
              "    const paths = {\n",
              "      \"vega\": \"https://cdn.jsdelivr.net/npm/vega@5?noext\",\n",
              "      \"vega-lib\": \"https://cdn.jsdelivr.net/npm/vega-lib?noext\",\n",
              "      \"vega-lite\": \"https://cdn.jsdelivr.net/npm/vega-lite@5.20.1?noext\",\n",
              "      \"vega-embed\": \"https://cdn.jsdelivr.net/npm/vega-embed@6?noext\",\n",
              "    };\n",
              "\n",
              "    function maybeLoadScript(lib, version) {\n",
              "      var key = `${lib.replace(\"-\", \"\")}_version`;\n",
              "      return (VEGA_DEBUG[key] == version) ?\n",
              "        Promise.resolve(paths[lib]) :\n",
              "        new Promise(function(resolve, reject) {\n",
              "          var s = document.createElement('script');\n",
              "          document.getElementsByTagName(\"head\")[0].appendChild(s);\n",
              "          s.async = true;\n",
              "          s.onload = () => {\n",
              "            VEGA_DEBUG[key] = version;\n",
              "            return resolve(paths[lib]);\n",
              "          };\n",
              "          s.onerror = () => reject(`Error loading script: ${paths[lib]}`);\n",
              "          s.src = paths[lib];\n",
              "        });\n",
              "    }\n",
              "\n",
              "    function showError(err) {\n",
              "      outputDiv.innerHTML = `<div class=\"error\" style=\"color:red;\">${err}</div>`;\n",
              "      throw err;\n",
              "    }\n",
              "\n",
              "    function displayChart(vegaEmbed) {\n",
              "      vegaEmbed(outputDiv, spec, embedOpt)\n",
              "        .catch(err => showError(`Javascript Error: ${err.message}<br>This usually means there's a typo in your chart specification. See the javascript console for the full traceback.`));\n",
              "    }\n",
              "\n",
              "    if(typeof define === \"function\" && define.amd) {\n",
              "      requirejs.config({paths});\n",
              "      let deps = [\"vega-embed\"];\n",
              "      require(deps, displayChart, err => showError(`Error loading script: ${err.message}`));\n",
              "    } else {\n",
              "      maybeLoadScript(\"vega\", \"5\")\n",
              "        .then(() => maybeLoadScript(\"vega-lite\", \"5.20.1\"))\n",
              "        .then(() => maybeLoadScript(\"vega-embed\", \"6\"))\n",
              "        .catch(showError)\n",
              "        .then(() => displayChart(vegaEmbed));\n",
              "    }\n",
              "  })({\"config\": {\"view\": {\"continuousWidth\": 300, \"continuousHeight\": 300}}, \"data\": {\"name\": \"data-57fa1a5b07d654b6334411aa172774b5\"}, \"mark\": {\"type\": \"line\"}, \"encoding\": {\"color\": {\"field\": \"regiao\", \"type\": \"nominal\"}, \"tooltip\": [{\"field\": \"ano\", \"type\": \"quantitative\"}, {\"field\": \"regiao\", \"type\": \"nominal\"}, {\"field\": \"populacao\", \"type\": \"quantitative\"}], \"x\": {\"field\": \"ano\", \"type\": \"ordinal\"}, \"y\": {\"field\": \"populacao\", \"type\": \"quantitative\"}}, \"title\": \"Evolu\\u00e7\\u00e3o da Popula\\u00e7\\u00e3o Brasileira\", \"$schema\": \"https://vega.github.io/schema/vega-lite/v5.20.1.json\", \"datasets\": {\"data-57fa1a5b07d654b6334411aa172774b5\": [{\"ano\": 2012, \"regiao\": \"Brasil\", \"populacao\": 197720000.0}, {\"ano\": 2013, \"regiao\": \"Brasil\", \"populacao\": 199402000.0}, {\"ano\": 2014, \"regiao\": \"Brasil\", \"populacao\": 201108000.0}, {\"ano\": 2015, \"regiao\": \"Brasil\", \"populacao\": 202860000.0}, {\"ano\": 2016, \"regiao\": \"Brasil\", \"populacao\": 204532000.0}, {\"ano\": 2017, \"regiao\": \"Brasil\", \"populacao\": 206172000.0}, {\"ano\": 2018, \"regiao\": \"Brasil\", \"populacao\": 207854000.0}, {\"ano\": 2019, \"regiao\": \"Brasil\", \"populacao\": 209496000.0}]}}, {\"mode\": \"vega-lite\"});\n",
              "</script>"
            ],
            "text/plain": [
              "alt.Chart(...)"
            ]
          },
          "metadata": {}
        }
      ]
    },
    {
      "cell_type": "markdown",
      "source": [
        "Então, me resolvi por adicionar as regiões, permitindo uma visualização mais clara do percentual que representam na população total."
      ],
      "metadata": {
        "id": "nP_CPbQ3NUpB"
      }
    },
    {
      "cell_type": "code",
      "source": [
        "chart = alt.Chart(complete_df).mark_line().encode(\n",
        "    x='ano:O',\n",
        "    y='populacao:Q',\n",
        "    color='regiao:N',  # Adiciona uma linha para cada região, com cores diferentes\n",
        "    tooltip=['ano', 'regiao', 'populacao']\n",
        ").properties(\n",
        "    title='Evolução da População Brasileira por Região'\n",
        ")\n",
        "\n",
        "chart.show()"
      ],
      "metadata": {
        "colab": {
          "base_uri": "https://localhost:8080/",
          "height": 399
        },
        "id": "pxowHy24MsAa",
        "outputId": "8155a138-b1dd-40c5-d7a1-21350a95cc70"
      },
      "execution_count": 121,
      "outputs": [
        {
          "output_type": "display_data",
          "data": {
            "text/html": [
              "\n",
              "<style>\n",
              "  #altair-viz-d3311ee7ec654af09f0939787db42cb2.vega-embed {\n",
              "    width: 100%;\n",
              "    display: flex;\n",
              "  }\n",
              "\n",
              "  #altair-viz-d3311ee7ec654af09f0939787db42cb2.vega-embed details,\n",
              "  #altair-viz-d3311ee7ec654af09f0939787db42cb2.vega-embed details summary {\n",
              "    position: relative;\n",
              "  }\n",
              "</style>\n",
              "<div id=\"altair-viz-d3311ee7ec654af09f0939787db42cb2\"></div>\n",
              "<script type=\"text/javascript\">\n",
              "  var VEGA_DEBUG = (typeof VEGA_DEBUG == \"undefined\") ? {} : VEGA_DEBUG;\n",
              "  (function(spec, embedOpt){\n",
              "    let outputDiv = document.currentScript.previousElementSibling;\n",
              "    if (outputDiv.id !== \"altair-viz-d3311ee7ec654af09f0939787db42cb2\") {\n",
              "      outputDiv = document.getElementById(\"altair-viz-d3311ee7ec654af09f0939787db42cb2\");\n",
              "    }\n",
              "\n",
              "    const paths = {\n",
              "      \"vega\": \"https://cdn.jsdelivr.net/npm/vega@5?noext\",\n",
              "      \"vega-lib\": \"https://cdn.jsdelivr.net/npm/vega-lib?noext\",\n",
              "      \"vega-lite\": \"https://cdn.jsdelivr.net/npm/vega-lite@5.20.1?noext\",\n",
              "      \"vega-embed\": \"https://cdn.jsdelivr.net/npm/vega-embed@6?noext\",\n",
              "    };\n",
              "\n",
              "    function maybeLoadScript(lib, version) {\n",
              "      var key = `${lib.replace(\"-\", \"\")}_version`;\n",
              "      return (VEGA_DEBUG[key] == version) ?\n",
              "        Promise.resolve(paths[lib]) :\n",
              "        new Promise(function(resolve, reject) {\n",
              "          var s = document.createElement('script');\n",
              "          document.getElementsByTagName(\"head\")[0].appendChild(s);\n",
              "          s.async = true;\n",
              "          s.onload = () => {\n",
              "            VEGA_DEBUG[key] = version;\n",
              "            return resolve(paths[lib]);\n",
              "          };\n",
              "          s.onerror = () => reject(`Error loading script: ${paths[lib]}`);\n",
              "          s.src = paths[lib];\n",
              "        });\n",
              "    }\n",
              "\n",
              "    function showError(err) {\n",
              "      outputDiv.innerHTML = `<div class=\"error\" style=\"color:red;\">${err}</div>`;\n",
              "      throw err;\n",
              "    }\n",
              "\n",
              "    function displayChart(vegaEmbed) {\n",
              "      vegaEmbed(outputDiv, spec, embedOpt)\n",
              "        .catch(err => showError(`Javascript Error: ${err.message}<br>This usually means there's a typo in your chart specification. See the javascript console for the full traceback.`));\n",
              "    }\n",
              "\n",
              "    if(typeof define === \"function\" && define.amd) {\n",
              "      requirejs.config({paths});\n",
              "      let deps = [\"vega-embed\"];\n",
              "      require(deps, displayChart, err => showError(`Error loading script: ${err.message}`));\n",
              "    } else {\n",
              "      maybeLoadScript(\"vega\", \"5\")\n",
              "        .then(() => maybeLoadScript(\"vega-lite\", \"5.20.1\"))\n",
              "        .then(() => maybeLoadScript(\"vega-embed\", \"6\"))\n",
              "        .catch(showError)\n",
              "        .then(() => displayChart(vegaEmbed));\n",
              "    }\n",
              "  })({\"config\": {\"view\": {\"continuousWidth\": 300, \"continuousHeight\": 300}}, \"data\": {\"name\": \"data-7ccaf0fdfa7edc9bc8b783184e745a58\"}, \"mark\": {\"type\": \"line\"}, \"encoding\": {\"color\": {\"field\": \"regiao\", \"type\": \"nominal\"}, \"tooltip\": [{\"field\": \"ano\", \"type\": \"quantitative\"}, {\"field\": \"regiao\", \"type\": \"nominal\"}, {\"field\": \"populacao\", \"type\": \"quantitative\"}], \"x\": {\"field\": \"ano\", \"type\": \"ordinal\"}, \"y\": {\"field\": \"populacao\", \"type\": \"quantitative\"}}, \"title\": \"Evolu\\u00e7\\u00e3o da Popula\\u00e7\\u00e3o Brasileira por Regi\\u00e3o\", \"$schema\": \"https://vega.github.io/schema/vega-lite/v5.20.1.json\", \"datasets\": {\"data-7ccaf0fdfa7edc9bc8b783184e745a58\": [{\"ano\": 2012, \"regiao\": \"norte\", \"populacao\": 16452000.0}, {\"ano\": 2013, \"regiao\": \"norte\", \"populacao\": 16687000.0}, {\"ano\": 2014, \"regiao\": \"norte\", \"populacao\": 16925000.0}, {\"ano\": 2015, \"regiao\": \"norte\", \"populacao\": 17164000.0}, {\"ano\": 2016, \"regiao\": \"norte\", \"populacao\": 17392000.0}, {\"ano\": 2017, \"regiao\": \"norte\", \"populacao\": 17625000.0}, {\"ano\": 2018, \"regiao\": \"norte\", \"populacao\": 17871000.0}, {\"ano\": 2019, \"regiao\": \"norte\", \"populacao\": 18113000.0}, {\"ano\": 2012, \"regiao\": \"nordeste\", \"populacao\": 54741000.0}, {\"ano\": 2013, \"regiao\": \"nordeste\", \"populacao\": 55050000.0}, {\"ano\": 2014, \"regiao\": \"nordeste\", \"populacao\": 55361000.0}, {\"ano\": 2015, \"regiao\": \"nordeste\", \"populacao\": 55688000.0}, {\"ano\": 2016, \"regiao\": \"nordeste\", \"populacao\": 55997000.0}, {\"ano\": 2017, \"regiao\": \"nordeste\", \"populacao\": 56300000.0}, {\"ano\": 2018, \"regiao\": \"nordeste\", \"populacao\": 56618000.0}, {\"ano\": 2019, \"regiao\": \"nordeste\", \"populacao\": 56928000.0}, {\"ano\": 2012, \"regiao\": \"sudeste\", \"populacao\": 83536000.0}, {\"ano\": 2013, \"regiao\": \"sudeste\", \"populacao\": 84233000.0}, {\"ano\": 2014, \"regiao\": \"sudeste\", \"populacao\": 84937000.0}, {\"ano\": 2015, \"regiao\": \"sudeste\", \"populacao\": 85659000.0}, {\"ano\": 2016, \"regiao\": \"sudeste\", \"populacao\": 86347000.0}, {\"ano\": 2017, \"regiao\": \"sudeste\", \"populacao\": 87014000.0}, {\"ano\": 2018, \"regiao\": \"sudeste\", \"populacao\": 87691000.0}, {\"ano\": 2019, \"regiao\": \"sudeste\", \"populacao\": 88350000.0}, {\"ano\": 2012, \"regiao\": \"sul\", \"populacao\": 28324000.0}, {\"ano\": 2013, \"regiao\": \"sul\", \"populacao\": 28551000.0}, {\"ano\": 2014, \"regiao\": \"sul\", \"populacao\": 28784000.0}, {\"ano\": 2015, \"regiao\": \"sul\", \"populacao\": 29024000.0}, {\"ano\": 2016, \"regiao\": \"sul\", \"populacao\": 29257000.0}, {\"ano\": 2017, \"regiao\": \"sul\", \"populacao\": 29483000.0}, {\"ano\": 2018, \"regiao\": \"sul\", \"populacao\": 29710000.0}, {\"ano\": 2019, \"regiao\": \"sul\", \"populacao\": 29932000.0}, {\"ano\": 2012, \"regiao\": \"centro-oeste\", \"populacao\": 14667000.0}, {\"ano\": 2013, \"regiao\": \"centro-oeste\", \"populacao\": 14881000.0}, {\"ano\": 2014, \"regiao\": \"centro-oeste\", \"populacao\": 15101000.0}, {\"ano\": 2015, \"regiao\": \"centro-oeste\", \"populacao\": 15325000.0}, {\"ano\": 2016, \"regiao\": \"centro-oeste\", \"populacao\": 15539000.0}, {\"ano\": 2017, \"regiao\": \"centro-oeste\", \"populacao\": 15750000.0}, {\"ano\": 2018, \"regiao\": \"centro-oeste\", \"populacao\": 15964000.0}, {\"ano\": 2019, \"regiao\": \"centro-oeste\", \"populacao\": 16173000.0}, {\"ano\": 2012, \"regiao\": \"Brasil\", \"populacao\": 197720000.0}, {\"ano\": 2013, \"regiao\": \"Brasil\", \"populacao\": 199402000.0}, {\"ano\": 2014, \"regiao\": \"Brasil\", \"populacao\": 201108000.0}, {\"ano\": 2015, \"regiao\": \"Brasil\", \"populacao\": 202860000.0}, {\"ano\": 2016, \"regiao\": \"Brasil\", \"populacao\": 204532000.0}, {\"ano\": 2017, \"regiao\": \"Brasil\", \"populacao\": 206172000.0}, {\"ano\": 2018, \"regiao\": \"Brasil\", \"populacao\": 207854000.0}, {\"ano\": 2019, \"regiao\": \"Brasil\", \"populacao\": 209496000.0}]}}, {\"mode\": \"vega-lite\"});\n",
              "</script>"
            ],
            "text/plain": [
              "alt.Chart(...)"
            ]
          },
          "metadata": {}
        }
      ]
    },
    {
      "cell_type": "markdown",
      "source": [
        "Por fim, quis ordenar a população das regiões e criar uma variável que as soma progressivamente antes de representar, de forma que sua população é a diferença entre a linha que a representa e a inferior a ela."
      ],
      "metadata": {
        "id": "zqlagZU5N2eS"
      }
    },
    {
      "cell_type": "code",
      "source": [
        "# Ordenar o DataFrame por ano e população em ordem decrescente para cada ano\n",
        "complete_df_sorted = complete_df.sort_values(by=['ano', 'populacao'], ascending=[True, False])\n",
        "\n",
        "# Calcular a soma cumulativa das populações\n",
        "complete_df_sorted['populacao_cumulativa'] = complete_df_sorted.groupby('ano')['populacao'].cumsum()\n",
        "\n",
        "# Criar o gráfico de linha com a evolução progressiva da população\n",
        "chart = alt.Chart(complete_df_sorted).mark_line().encode(\n",
        "    x='ano:O',\n",
        "    y='populacao_cumulativa:Q',\n",
        "    color='regiao:N',\n",
        "    tooltip=['ano', 'regiao', 'populacao_cumulativa']  # Exibir ano, região e população cumulativa\n",
        ").properties(\n",
        "    title='Participação regional na população'\n",
        ")\n",
        "\n",
        "chart.show()"
      ],
      "metadata": {
        "colab": {
          "base_uri": "https://localhost:8080/",
          "height": 399
        },
        "id": "23srL-LtM_1Y",
        "outputId": "21d77eda-b457-4690-926a-66989e908502"
      },
      "execution_count": 125,
      "outputs": [
        {
          "output_type": "display_data",
          "data": {
            "text/html": [
              "\n",
              "<style>\n",
              "  #altair-viz-00e6ab6f9b4243fb988c6974e256ffcd.vega-embed {\n",
              "    width: 100%;\n",
              "    display: flex;\n",
              "  }\n",
              "\n",
              "  #altair-viz-00e6ab6f9b4243fb988c6974e256ffcd.vega-embed details,\n",
              "  #altair-viz-00e6ab6f9b4243fb988c6974e256ffcd.vega-embed details summary {\n",
              "    position: relative;\n",
              "  }\n",
              "</style>\n",
              "<div id=\"altair-viz-00e6ab6f9b4243fb988c6974e256ffcd\"></div>\n",
              "<script type=\"text/javascript\">\n",
              "  var VEGA_DEBUG = (typeof VEGA_DEBUG == \"undefined\") ? {} : VEGA_DEBUG;\n",
              "  (function(spec, embedOpt){\n",
              "    let outputDiv = document.currentScript.previousElementSibling;\n",
              "    if (outputDiv.id !== \"altair-viz-00e6ab6f9b4243fb988c6974e256ffcd\") {\n",
              "      outputDiv = document.getElementById(\"altair-viz-00e6ab6f9b4243fb988c6974e256ffcd\");\n",
              "    }\n",
              "\n",
              "    const paths = {\n",
              "      \"vega\": \"https://cdn.jsdelivr.net/npm/vega@5?noext\",\n",
              "      \"vega-lib\": \"https://cdn.jsdelivr.net/npm/vega-lib?noext\",\n",
              "      \"vega-lite\": \"https://cdn.jsdelivr.net/npm/vega-lite@5.20.1?noext\",\n",
              "      \"vega-embed\": \"https://cdn.jsdelivr.net/npm/vega-embed@6?noext\",\n",
              "    };\n",
              "\n",
              "    function maybeLoadScript(lib, version) {\n",
              "      var key = `${lib.replace(\"-\", \"\")}_version`;\n",
              "      return (VEGA_DEBUG[key] == version) ?\n",
              "        Promise.resolve(paths[lib]) :\n",
              "        new Promise(function(resolve, reject) {\n",
              "          var s = document.createElement('script');\n",
              "          document.getElementsByTagName(\"head\")[0].appendChild(s);\n",
              "          s.async = true;\n",
              "          s.onload = () => {\n",
              "            VEGA_DEBUG[key] = version;\n",
              "            return resolve(paths[lib]);\n",
              "          };\n",
              "          s.onerror = () => reject(`Error loading script: ${paths[lib]}`);\n",
              "          s.src = paths[lib];\n",
              "        });\n",
              "    }\n",
              "\n",
              "    function showError(err) {\n",
              "      outputDiv.innerHTML = `<div class=\"error\" style=\"color:red;\">${err}</div>`;\n",
              "      throw err;\n",
              "    }\n",
              "\n",
              "    function displayChart(vegaEmbed) {\n",
              "      vegaEmbed(outputDiv, spec, embedOpt)\n",
              "        .catch(err => showError(`Javascript Error: ${err.message}<br>This usually means there's a typo in your chart specification. See the javascript console for the full traceback.`));\n",
              "    }\n",
              "\n",
              "    if(typeof define === \"function\" && define.amd) {\n",
              "      requirejs.config({paths});\n",
              "      let deps = [\"vega-embed\"];\n",
              "      require(deps, displayChart, err => showError(`Error loading script: ${err.message}`));\n",
              "    } else {\n",
              "      maybeLoadScript(\"vega\", \"5\")\n",
              "        .then(() => maybeLoadScript(\"vega-lite\", \"5.20.1\"))\n",
              "        .then(() => maybeLoadScript(\"vega-embed\", \"6\"))\n",
              "        .catch(showError)\n",
              "        .then(() => displayChart(vegaEmbed));\n",
              "    }\n",
              "  })({\"config\": {\"view\": {\"continuousWidth\": 300, \"continuousHeight\": 300}}, \"data\": {\"name\": \"data-ced406b938c494f7c3a4b31cb4f6c9ca\"}, \"mark\": {\"type\": \"line\"}, \"encoding\": {\"color\": {\"field\": \"regiao\", \"type\": \"nominal\"}, \"tooltip\": [{\"field\": \"ano\", \"type\": \"quantitative\"}, {\"field\": \"regiao\", \"type\": \"nominal\"}, {\"field\": \"populacao_cumulativa\", \"type\": \"quantitative\"}], \"x\": {\"field\": \"ano\", \"type\": \"ordinal\"}, \"y\": {\"field\": \"populacao_cumulativa\", \"type\": \"quantitative\"}}, \"title\": \"Participa\\u00e7\\u00e3o regional na popula\\u00e7\\u00e3o\", \"$schema\": \"https://vega.github.io/schema/vega-lite/v5.20.1.json\", \"datasets\": {\"data-ced406b938c494f7c3a4b31cb4f6c9ca\": [{\"ano\": 2012, \"regiao\": \"Brasil\", \"populacao\": 197720000.0, \"populacao_cumulativa\": 197720000.0}, {\"ano\": 2012, \"regiao\": \"sudeste\", \"populacao\": 83536000.0, \"populacao_cumulativa\": 281256000.0}, {\"ano\": 2012, \"regiao\": \"nordeste\", \"populacao\": 54741000.0, \"populacao_cumulativa\": 335997000.0}, {\"ano\": 2012, \"regiao\": \"sul\", \"populacao\": 28324000.0, \"populacao_cumulativa\": 364321000.0}, {\"ano\": 2012, \"regiao\": \"norte\", \"populacao\": 16452000.0, \"populacao_cumulativa\": 380773000.0}, {\"ano\": 2012, \"regiao\": \"centro-oeste\", \"populacao\": 14667000.0, \"populacao_cumulativa\": 395440000.0}, {\"ano\": 2013, \"regiao\": \"Brasil\", \"populacao\": 199402000.0, \"populacao_cumulativa\": 199402000.0}, {\"ano\": 2013, \"regiao\": \"sudeste\", \"populacao\": 84233000.0, \"populacao_cumulativa\": 283635000.0}, {\"ano\": 2013, \"regiao\": \"nordeste\", \"populacao\": 55050000.0, \"populacao_cumulativa\": 338685000.0}, {\"ano\": 2013, \"regiao\": \"sul\", \"populacao\": 28551000.0, \"populacao_cumulativa\": 367236000.0}, {\"ano\": 2013, \"regiao\": \"norte\", \"populacao\": 16687000.0, \"populacao_cumulativa\": 383923000.0}, {\"ano\": 2013, \"regiao\": \"centro-oeste\", \"populacao\": 14881000.0, \"populacao_cumulativa\": 398804000.0}, {\"ano\": 2014, \"regiao\": \"Brasil\", \"populacao\": 201108000.0, \"populacao_cumulativa\": 201108000.0}, {\"ano\": 2014, \"regiao\": \"sudeste\", \"populacao\": 84937000.0, \"populacao_cumulativa\": 286045000.0}, {\"ano\": 2014, \"regiao\": \"nordeste\", \"populacao\": 55361000.0, \"populacao_cumulativa\": 341406000.0}, {\"ano\": 2014, \"regiao\": \"sul\", \"populacao\": 28784000.0, \"populacao_cumulativa\": 370190000.0}, {\"ano\": 2014, \"regiao\": \"norte\", \"populacao\": 16925000.0, \"populacao_cumulativa\": 387115000.0}, {\"ano\": 2014, \"regiao\": \"centro-oeste\", \"populacao\": 15101000.0, \"populacao_cumulativa\": 402216000.0}, {\"ano\": 2015, \"regiao\": \"Brasil\", \"populacao\": 202860000.0, \"populacao_cumulativa\": 202860000.0}, {\"ano\": 2015, \"regiao\": \"sudeste\", \"populacao\": 85659000.0, \"populacao_cumulativa\": 288519000.0}, {\"ano\": 2015, \"regiao\": \"nordeste\", \"populacao\": 55688000.0, \"populacao_cumulativa\": 344207000.0}, {\"ano\": 2015, \"regiao\": \"sul\", \"populacao\": 29024000.0, \"populacao_cumulativa\": 373231000.0}, {\"ano\": 2015, \"regiao\": \"norte\", \"populacao\": 17164000.0, \"populacao_cumulativa\": 390395000.0}, {\"ano\": 2015, \"regiao\": \"centro-oeste\", \"populacao\": 15325000.0, \"populacao_cumulativa\": 405720000.0}, {\"ano\": 2016, \"regiao\": \"Brasil\", \"populacao\": 204532000.0, \"populacao_cumulativa\": 204532000.0}, {\"ano\": 2016, \"regiao\": \"sudeste\", \"populacao\": 86347000.0, \"populacao_cumulativa\": 290879000.0}, {\"ano\": 2016, \"regiao\": \"nordeste\", \"populacao\": 55997000.0, \"populacao_cumulativa\": 346876000.0}, {\"ano\": 2016, \"regiao\": \"sul\", \"populacao\": 29257000.0, \"populacao_cumulativa\": 376133000.0}, {\"ano\": 2016, \"regiao\": \"norte\", \"populacao\": 17392000.0, \"populacao_cumulativa\": 393525000.0}, {\"ano\": 2016, \"regiao\": \"centro-oeste\", \"populacao\": 15539000.0, \"populacao_cumulativa\": 409064000.0}, {\"ano\": 2017, \"regiao\": \"Brasil\", \"populacao\": 206172000.0, \"populacao_cumulativa\": 206172000.0}, {\"ano\": 2017, \"regiao\": \"sudeste\", \"populacao\": 87014000.0, \"populacao_cumulativa\": 293186000.0}, {\"ano\": 2017, \"regiao\": \"nordeste\", \"populacao\": 56300000.0, \"populacao_cumulativa\": 349486000.0}, {\"ano\": 2017, \"regiao\": \"sul\", \"populacao\": 29483000.0, \"populacao_cumulativa\": 378969000.0}, {\"ano\": 2017, \"regiao\": \"norte\", \"populacao\": 17625000.0, \"populacao_cumulativa\": 396594000.0}, {\"ano\": 2017, \"regiao\": \"centro-oeste\", \"populacao\": 15750000.0, \"populacao_cumulativa\": 412344000.0}, {\"ano\": 2018, \"regiao\": \"Brasil\", \"populacao\": 207854000.0, \"populacao_cumulativa\": 207854000.0}, {\"ano\": 2018, \"regiao\": \"sudeste\", \"populacao\": 87691000.0, \"populacao_cumulativa\": 295545000.0}, {\"ano\": 2018, \"regiao\": \"nordeste\", \"populacao\": 56618000.0, \"populacao_cumulativa\": 352163000.0}, {\"ano\": 2018, \"regiao\": \"sul\", \"populacao\": 29710000.0, \"populacao_cumulativa\": 381873000.0}, {\"ano\": 2018, \"regiao\": \"norte\", \"populacao\": 17871000.0, \"populacao_cumulativa\": 399744000.0}, {\"ano\": 2018, \"regiao\": \"centro-oeste\", \"populacao\": 15964000.0, \"populacao_cumulativa\": 415708000.0}, {\"ano\": 2019, \"regiao\": \"Brasil\", \"populacao\": 209496000.0, \"populacao_cumulativa\": 209496000.0}, {\"ano\": 2019, \"regiao\": \"sudeste\", \"populacao\": 88350000.0, \"populacao_cumulativa\": 297846000.0}, {\"ano\": 2019, \"regiao\": \"nordeste\", \"populacao\": 56928000.0, \"populacao_cumulativa\": 354774000.0}, {\"ano\": 2019, \"regiao\": \"sul\", \"populacao\": 29932000.0, \"populacao_cumulativa\": 384706000.0}, {\"ano\": 2019, \"regiao\": \"norte\", \"populacao\": 18113000.0, \"populacao_cumulativa\": 402819000.0}, {\"ano\": 2019, \"regiao\": \"centro-oeste\", \"populacao\": 16173000.0, \"populacao_cumulativa\": 418992000.0}]}}, {\"mode\": \"vega-lite\"});\n",
              "</script>"
            ],
            "text/plain": [
              "alt.Chart(...)"
            ]
          },
          "metadata": {}
        }
      ]
    },
    {
      "cell_type": "markdown",
      "source": [
        "Por fim, para aproveitar os dados sobre sexo e idade, construí uma pirâmide etária:"
      ],
      "metadata": {
        "id": "YKD2imuZc7f7"
      }
    },
    {
      "cell_type": "code",
      "source": [
        "# Filtrando para a região 'norte'\n",
        "df_etario = df[(df['regiao'] == 'norte')]\n",
        "\n",
        "# Agrupar as faixas etárias numa escala de 10 em 10 anos\"\n",
        "df_etario.loc[df_etario['grupo_idade'].isin(['0 a 4 anos', '5 a 9 anos']), 'grupo_idade'] = '0 a 9 anos'\n",
        "df_etario.loc[df_etario['grupo_idade'].isin(['10 a 13 anos', '14 a 15 anos', '16 a 17 anos', '18 a 19 anos']), 'grupo_idade'] = '10 a 19 anos'\n",
        "df_etario.loc[df_etario['grupo_idade'].isin(['20 a 24 anos', '25 a 29 anos']), 'grupo_idade'] = '20 a 29 anos'\n",
        "\n",
        "# Excluindo os grupos de idade indesejados\n",
        "delete = ['Total', '5 a 13 anos', '14 a 17 anos', '60 anos ou mais']\n",
        "df_etario = df_etario[~df_etario['grupo_idade'].isin(delete)]\n",
        "\n",
        "# Remover a palavra \"anos\" da coluna 'grupo_idade'\n",
        "df_etario['grupo_idade'] = df_etario['grupo_idade'].str.replace(' anos', '')\n",
        "\n",
        "# Definindo a escala de cor para o gênero\n",
        "color_scale = alt.Scale(domain=['Homens', 'Mulheres'], range=['#1f77b4', '#e377c2'])\n",
        "\n",
        "# Criando a base do gráfico\n",
        "base = alt.Chart(df_etario).properties(width=300)\n",
        "\n",
        "# Criando a parte da visualização para as mulheres\n",
        "left = base.transform_filter(\n",
        "    alt.datum.sexo == 'Mulheres'\n",
        ").encode(\n",
        "    alt.Y('grupo_idade:N', title='', sort=['65 ou mais', '60 a 64', '50 a 59', '40 a 49',\n",
        "                                                     '30 a 39', '20 a 29', '10 a 19', '0 a 9']),\n",
        "    alt.X('sum(populacao):Q').title('População'),\n",
        "    alt.Color('sexo:N').scale(color_scale).legend(None)\n",
        ").mark_bar().properties(title='Mulheres')\n",
        "\n",
        "# Criando a parte da visualização para os homens\n",
        "right = base.transform_filter(\n",
        "    alt.datum.sexo == 'Homens'\n",
        ").encode(\n",
        "    alt.Y('grupo_idade:N', title='Faixa Etária', sort=['65 ou mais', '60 a 64', '50 a 59', '40 a 49',\n",
        "                                                     '30 a 39', '20 a 29', '10 a 19', '0 a 9']),\n",
        "    alt.X('sum(populacao):Q').title('População'),\n",
        "    alt.Color('sexo:N').scale(color_scale).legend(None)\n",
        ").mark_bar().properties(title='Homens')\n",
        "\n",
        "# Concatenando as visualizações em uma única\n",
        "alt.concat(right, left, spacing=5)"
      ],
      "metadata": {
        "colab": {
          "base_uri": "https://localhost:8080/",
          "height": 243
        },
        "id": "89Sjln5tVaT6",
        "outputId": "37a7f58e-f541-4990-9281-f379170d106d"
      },
      "execution_count": 181,
      "outputs": [
        {
          "output_type": "execute_result",
          "data": {
            "text/html": [
              "\n",
              "<style>\n",
              "  #altair-viz-9e72aef10851400196fbcd937d4994dc.vega-embed {\n",
              "    width: 100%;\n",
              "    display: flex;\n",
              "  }\n",
              "\n",
              "  #altair-viz-9e72aef10851400196fbcd937d4994dc.vega-embed details,\n",
              "  #altair-viz-9e72aef10851400196fbcd937d4994dc.vega-embed details summary {\n",
              "    position: relative;\n",
              "  }\n",
              "</style>\n",
              "<div id=\"altair-viz-9e72aef10851400196fbcd937d4994dc\"></div>\n",
              "<script type=\"text/javascript\">\n",
              "  var VEGA_DEBUG = (typeof VEGA_DEBUG == \"undefined\") ? {} : VEGA_DEBUG;\n",
              "  (function(spec, embedOpt){\n",
              "    let outputDiv = document.currentScript.previousElementSibling;\n",
              "    if (outputDiv.id !== \"altair-viz-9e72aef10851400196fbcd937d4994dc\") {\n",
              "      outputDiv = document.getElementById(\"altair-viz-9e72aef10851400196fbcd937d4994dc\");\n",
              "    }\n",
              "\n",
              "    const paths = {\n",
              "      \"vega\": \"https://cdn.jsdelivr.net/npm/vega@5?noext\",\n",
              "      \"vega-lib\": \"https://cdn.jsdelivr.net/npm/vega-lib?noext\",\n",
              "      \"vega-lite\": \"https://cdn.jsdelivr.net/npm/vega-lite@5.20.1?noext\",\n",
              "      \"vega-embed\": \"https://cdn.jsdelivr.net/npm/vega-embed@6?noext\",\n",
              "    };\n",
              "\n",
              "    function maybeLoadScript(lib, version) {\n",
              "      var key = `${lib.replace(\"-\", \"\")}_version`;\n",
              "      return (VEGA_DEBUG[key] == version) ?\n",
              "        Promise.resolve(paths[lib]) :\n",
              "        new Promise(function(resolve, reject) {\n",
              "          var s = document.createElement('script');\n",
              "          document.getElementsByTagName(\"head\")[0].appendChild(s);\n",
              "          s.async = true;\n",
              "          s.onload = () => {\n",
              "            VEGA_DEBUG[key] = version;\n",
              "            return resolve(paths[lib]);\n",
              "          };\n",
              "          s.onerror = () => reject(`Error loading script: ${paths[lib]}`);\n",
              "          s.src = paths[lib];\n",
              "        });\n",
              "    }\n",
              "\n",
              "    function showError(err) {\n",
              "      outputDiv.innerHTML = `<div class=\"error\" style=\"color:red;\">${err}</div>`;\n",
              "      throw err;\n",
              "    }\n",
              "\n",
              "    function displayChart(vegaEmbed) {\n",
              "      vegaEmbed(outputDiv, spec, embedOpt)\n",
              "        .catch(err => showError(`Javascript Error: ${err.message}<br>This usually means there's a typo in your chart specification. See the javascript console for the full traceback.`));\n",
              "    }\n",
              "\n",
              "    if(typeof define === \"function\" && define.amd) {\n",
              "      requirejs.config({paths});\n",
              "      let deps = [\"vega-embed\"];\n",
              "      require(deps, displayChart, err => showError(`Error loading script: ${err.message}`));\n",
              "    } else {\n",
              "      maybeLoadScript(\"vega\", \"5\")\n",
              "        .then(() => maybeLoadScript(\"vega-lite\", \"5.20.1\"))\n",
              "        .then(() => maybeLoadScript(\"vega-embed\", \"6\"))\n",
              "        .catch(showError)\n",
              "        .then(() => displayChart(vegaEmbed));\n",
              "    }\n",
              "  })({\"config\": {\"view\": {\"continuousWidth\": 300, \"continuousHeight\": 300}}, \"concat\": [{\"mark\": {\"type\": \"bar\"}, \"encoding\": {\"color\": {\"field\": \"sexo\", \"legend\": null, \"scale\": {\"domain\": [\"Homens\", \"Mulheres\"], \"range\": [\"#1f77b4\", \"#e377c2\"]}, \"type\": \"nominal\"}, \"x\": {\"aggregate\": \"sum\", \"field\": \"populacao\", \"title\": \"Popula\\u00e7\\u00e3o\", \"type\": \"quantitative\"}, \"y\": {\"field\": \"grupo_idade\", \"sort\": [\"65 ou mais\", \"60 a 64\", \"50 a 59\", \"40 a 49\", \"30 a 39\", \"20 a 29\", \"10 a 19\", \"0 a 9\"], \"title\": \"Faixa Et\\u00e1ria\", \"type\": \"nominal\"}}, \"title\": \"Homens\", \"transform\": [{\"filter\": \"(datum.sexo === 'Homens')\"}], \"width\": 300}, {\"mark\": {\"type\": \"bar\"}, \"encoding\": {\"color\": {\"field\": \"sexo\", \"legend\": null, \"scale\": {\"domain\": [\"Homens\", \"Mulheres\"], \"range\": [\"#1f77b4\", \"#e377c2\"]}, \"type\": \"nominal\"}, \"x\": {\"aggregate\": \"sum\", \"field\": \"populacao\", \"title\": \"Popula\\u00e7\\u00e3o\", \"type\": \"quantitative\"}, \"y\": {\"field\": \"grupo_idade\", \"sort\": [\"65 ou mais\", \"60 a 64\", \"50 a 59\", \"40 a 49\", \"30 a 39\", \"20 a 29\", \"10 a 19\", \"0 a 9\"], \"title\": \"\", \"type\": \"nominal\"}}, \"title\": \"Mulheres\", \"transform\": [{\"filter\": \"(datum.sexo === 'Mulheres')\"}], \"width\": 300}], \"data\": {\"name\": \"data-2563c63d0665fa666420b0f93be570b6\"}, \"spacing\": 5, \"$schema\": \"https://vega.github.io/schema/vega-lite/v5.20.1.json\", \"datasets\": {\"data-2563c63d0665fa666420b0f93be570b6\": [{\"ano\": 2012, \"regiao\": \"norte\", \"sexo\": \"Total\", \"grupo_idade\": \"0 a 9\", \"populacao\": 1485000.0}, {\"ano\": 2012, \"regiao\": \"norte\", \"sexo\": \"Total\", \"grupo_idade\": \"0 a 9\", \"populacao\": 1648000.0}, {\"ano\": 2012, \"regiao\": \"norte\", \"sexo\": \"Total\", \"grupo_idade\": \"10 a 19\", \"populacao\": 1444000.0}, {\"ano\": 2012, \"regiao\": \"norte\", \"sexo\": \"Total\", \"grupo_idade\": \"10 a 19\", \"populacao\": 711000.0}, {\"ano\": 2012, \"regiao\": \"norte\", \"sexo\": \"Total\", \"grupo_idade\": \"10 a 19\", \"populacao\": 707000.0}, {\"ano\": 2012, \"regiao\": \"norte\", \"sexo\": \"Total\", \"grupo_idade\": \"10 a 19\", \"populacao\": 670000.0}, {\"ano\": 2012, \"regiao\": \"norte\", \"sexo\": \"Total\", \"grupo_idade\": \"20 a 29\", \"populacao\": 1432000.0}, {\"ano\": 2012, \"regiao\": \"norte\", \"sexo\": \"Total\", \"grupo_idade\": \"20 a 29\", \"populacao\": 1374000.0}, {\"ano\": 2012, \"regiao\": \"norte\", \"sexo\": \"Total\", \"grupo_idade\": \"30 a 39\", \"populacao\": 2540000.0}, {\"ano\": 2012, \"regiao\": \"norte\", \"sexo\": \"Total\", \"grupo_idade\": \"40 a 49\", \"populacao\": 1839000.0}, {\"ano\": 2012, \"regiao\": \"norte\", \"sexo\": \"Total\", \"grupo_idade\": \"50 a 59\", \"populacao\": 1268000.0}, {\"ano\": 2012, \"regiao\": \"norte\", \"sexo\": \"Total\", \"grupo_idade\": \"60 a 64\", \"populacao\": 437000.0}, {\"ano\": 2012, \"regiao\": \"norte\", \"sexo\": \"Total\", \"grupo_idade\": \"65 ou mais\", \"populacao\": 897000.0}, {\"ano\": 2012, \"regiao\": \"norte\", \"sexo\": \"Homens\", \"grupo_idade\": \"0 a 9\", \"populacao\": -747000.0}, {\"ano\": 2012, \"regiao\": \"norte\", \"sexo\": \"Homens\", \"grupo_idade\": \"0 a 9\", \"populacao\": -831000.0}, {\"ano\": 2012, \"regiao\": \"norte\", \"sexo\": \"Homens\", \"grupo_idade\": \"10 a 19\", \"populacao\": -731000.0}, {\"ano\": 2012, \"regiao\": \"norte\", \"sexo\": \"Homens\", \"grupo_idade\": \"10 a 19\", \"populacao\": -357000.0}, {\"ano\": 2012, \"regiao\": \"norte\", \"sexo\": \"Homens\", \"grupo_idade\": \"10 a 19\", \"populacao\": -345000.0}, {\"ano\": 2012, \"regiao\": \"norte\", \"sexo\": \"Homens\", \"grupo_idade\": \"10 a 19\", \"populacao\": -336000.0}, {\"ano\": 2012, \"regiao\": \"norte\", \"sexo\": \"Homens\", \"grupo_idade\": \"20 a 29\", \"populacao\": -731000.0}, {\"ano\": 2012, \"regiao\": \"norte\", \"sexo\": \"Homens\", \"grupo_idade\": \"20 a 29\", \"populacao\": -659000.0}, {\"ano\": 2012, \"regiao\": \"norte\", \"sexo\": \"Homens\", \"grupo_idade\": \"30 a 39\", \"populacao\": -1236000.0}, {\"ano\": 2012, \"regiao\": \"norte\", \"sexo\": \"Homens\", \"grupo_idade\": \"40 a 49\", \"populacao\": -893000.0}, {\"ano\": 2012, \"regiao\": \"norte\", \"sexo\": \"Homens\", \"grupo_idade\": \"50 a 59\", \"populacao\": -639000.0}, {\"ano\": 2012, \"regiao\": \"norte\", \"sexo\": \"Homens\", \"grupo_idade\": \"60 a 64\", \"populacao\": -221000.0}, {\"ano\": 2012, \"regiao\": \"norte\", \"sexo\": \"Homens\", \"grupo_idade\": \"65 ou mais\", \"populacao\": -427000.0}, {\"ano\": 2012, \"regiao\": \"norte\", \"sexo\": \"Mulheres\", \"grupo_idade\": \"0 a 9\", \"populacao\": 738000.0}, {\"ano\": 2012, \"regiao\": \"norte\", \"sexo\": \"Mulheres\", \"grupo_idade\": \"0 a 9\", \"populacao\": 817000.0}, {\"ano\": 2012, \"regiao\": \"norte\", \"sexo\": \"Mulheres\", \"grupo_idade\": \"10 a 19\", \"populacao\": 713000.0}, {\"ano\": 2012, \"regiao\": \"norte\", \"sexo\": \"Mulheres\", \"grupo_idade\": \"10 a 19\", \"populacao\": 354000.0}, {\"ano\": 2012, \"regiao\": \"norte\", \"sexo\": \"Mulheres\", \"grupo_idade\": \"10 a 19\", \"populacao\": 362000.0}, {\"ano\": 2012, \"regiao\": \"norte\", \"sexo\": \"Mulheres\", \"grupo_idade\": \"10 a 19\", \"populacao\": 335000.0}, {\"ano\": 2012, \"regiao\": \"norte\", \"sexo\": \"Mulheres\", \"grupo_idade\": \"20 a 29\", \"populacao\": 701000.0}, {\"ano\": 2012, \"regiao\": \"norte\", \"sexo\": \"Mulheres\", \"grupo_idade\": \"20 a 29\", \"populacao\": 714000.0}, {\"ano\": 2012, \"regiao\": \"norte\", \"sexo\": \"Mulheres\", \"grupo_idade\": \"30 a 39\", \"populacao\": 1304000.0}, {\"ano\": 2012, \"regiao\": \"norte\", \"sexo\": \"Mulheres\", \"grupo_idade\": \"40 a 49\", \"populacao\": 947000.0}, {\"ano\": 2012, \"regiao\": \"norte\", \"sexo\": \"Mulheres\", \"grupo_idade\": \"50 a 59\", \"populacao\": 629000.0}, {\"ano\": 2012, \"regiao\": \"norte\", \"sexo\": \"Mulheres\", \"grupo_idade\": \"60 a 64\", \"populacao\": 216000.0}, {\"ano\": 2012, \"regiao\": \"norte\", \"sexo\": \"Mulheres\", \"grupo_idade\": \"65 ou mais\", \"populacao\": 470000.0}, {\"ano\": 2013, \"regiao\": \"norte\", \"sexo\": \"Total\", \"grupo_idade\": \"0 a 9\", \"populacao\": 1456000.0}, {\"ano\": 2013, \"regiao\": \"norte\", \"sexo\": \"Total\", \"grupo_idade\": \"0 a 9\", \"populacao\": 1611000.0}, {\"ano\": 2013, \"regiao\": \"norte\", \"sexo\": \"Total\", \"grupo_idade\": \"10 a 19\", \"populacao\": 1446000.0}, {\"ano\": 2013, \"regiao\": \"norte\", \"sexo\": \"Total\", \"grupo_idade\": \"10 a 19\", \"populacao\": 690000.0}, {\"ano\": 2013, \"regiao\": \"norte\", \"sexo\": \"Total\", \"grupo_idade\": \"10 a 19\", \"populacao\": 708000.0}, {\"ano\": 2013, \"regiao\": \"norte\", \"sexo\": \"Total\", \"grupo_idade\": \"10 a 19\", \"populacao\": 692000.0}, {\"ano\": 2013, \"regiao\": \"norte\", \"sexo\": \"Total\", \"grupo_idade\": \"20 a 29\", \"populacao\": 1418000.0}, {\"ano\": 2013, \"regiao\": \"norte\", \"sexo\": \"Total\", \"grupo_idade\": \"20 a 29\", \"populacao\": 1399000.0}, {\"ano\": 2013, \"regiao\": \"norte\", \"sexo\": \"Total\", \"grupo_idade\": \"30 a 39\", \"populacao\": 2588000.0}, {\"ano\": 2013, \"regiao\": \"norte\", \"sexo\": \"Total\", \"grupo_idade\": \"40 a 49\", \"populacao\": 1918000.0}, {\"ano\": 2013, \"regiao\": \"norte\", \"sexo\": \"Total\", \"grupo_idade\": \"50 a 59\", \"populacao\": 1340000.0}, {\"ano\": 2013, \"regiao\": \"norte\", \"sexo\": \"Total\", \"grupo_idade\": \"60 a 64\", \"populacao\": 478000.0}, {\"ano\": 2013, \"regiao\": \"norte\", \"sexo\": \"Total\", \"grupo_idade\": \"65 ou mais\", \"populacao\": 943000.0}, {\"ano\": 2013, \"regiao\": \"norte\", \"sexo\": \"Homens\", \"grupo_idade\": \"0 a 9\", \"populacao\": -741000.0}, {\"ano\": 2013, \"regiao\": \"norte\", \"sexo\": \"Homens\", \"grupo_idade\": \"0 a 9\", \"populacao\": -812000.0}, {\"ano\": 2013, \"regiao\": \"norte\", \"sexo\": \"Homens\", \"grupo_idade\": \"10 a 19\", \"populacao\": -752000.0}, {\"ano\": 2013, \"regiao\": \"norte\", \"sexo\": \"Homens\", \"grupo_idade\": \"10 a 19\", \"populacao\": -352000.0}, {\"ano\": 2013, \"regiao\": \"norte\", \"sexo\": \"Homens\", \"grupo_idade\": \"10 a 19\", \"populacao\": -365000.0}, {\"ano\": 2013, \"regiao\": \"norte\", \"sexo\": \"Homens\", \"grupo_idade\": \"10 a 19\", \"populacao\": -347000.0}, {\"ano\": 2013, \"regiao\": \"norte\", \"sexo\": \"Homens\", \"grupo_idade\": \"20 a 29\", \"populacao\": -696000.0}, {\"ano\": 2013, \"regiao\": \"norte\", \"sexo\": \"Homens\", \"grupo_idade\": \"20 a 29\", \"populacao\": -696000.0}, {\"ano\": 2013, \"regiao\": \"norte\", \"sexo\": \"Homens\", \"grupo_idade\": \"30 a 39\", \"populacao\": -1261000.0}, {\"ano\": 2013, \"regiao\": \"norte\", \"sexo\": \"Homens\", \"grupo_idade\": \"40 a 49\", \"populacao\": -962000.0}, {\"ano\": 2013, \"regiao\": \"norte\", \"sexo\": \"Homens\", \"grupo_idade\": \"50 a 59\", \"populacao\": -665000.0}, {\"ano\": 2013, \"regiao\": \"norte\", \"sexo\": \"Homens\", \"grupo_idade\": \"60 a 64\", \"populacao\": -237000.0}, {\"ano\": 2013, \"regiao\": \"norte\", \"sexo\": \"Homens\", \"grupo_idade\": \"65 ou mais\", \"populacao\": -460000.0}, {\"ano\": 2013, \"regiao\": \"norte\", \"sexo\": \"Mulheres\", \"grupo_idade\": \"0 a 9\", \"populacao\": 714000.0}, {\"ano\": 2013, \"regiao\": \"norte\", \"sexo\": \"Mulheres\", \"grupo_idade\": \"0 a 9\", \"populacao\": 799000.0}, {\"ano\": 2013, \"regiao\": \"norte\", \"sexo\": \"Mulheres\", \"grupo_idade\": \"10 a 19\", \"populacao\": 694000.0}, {\"ano\": 2013, \"regiao\": \"norte\", \"sexo\": \"Mulheres\", \"grupo_idade\": \"10 a 19\", \"populacao\": 338000.0}, {\"ano\": 2013, \"regiao\": \"norte\", \"sexo\": \"Mulheres\", \"grupo_idade\": \"10 a 19\", \"populacao\": 343000.0}, {\"ano\": 2013, \"regiao\": \"norte\", \"sexo\": \"Mulheres\", \"grupo_idade\": \"10 a 19\", \"populacao\": 345000.0}, {\"ano\": 2013, \"regiao\": \"norte\", \"sexo\": \"Mulheres\", \"grupo_idade\": \"20 a 29\", \"populacao\": 722000.0}, {\"ano\": 2013, \"regiao\": \"norte\", \"sexo\": \"Mulheres\", \"grupo_idade\": \"20 a 29\", \"populacao\": 702000.0}, {\"ano\": 2013, \"regiao\": \"norte\", \"sexo\": \"Mulheres\", \"grupo_idade\": \"30 a 39\", \"populacao\": 1327000.0}, {\"ano\": 2013, \"regiao\": \"norte\", \"sexo\": \"Mulheres\", \"grupo_idade\": \"40 a 49\", \"populacao\": 956000.0}, {\"ano\": 2013, \"regiao\": \"norte\", \"sexo\": \"Mulheres\", \"grupo_idade\": \"50 a 59\", \"populacao\": 675000.0}, {\"ano\": 2013, \"regiao\": \"norte\", \"sexo\": \"Mulheres\", \"grupo_idade\": \"60 a 64\", \"populacao\": 241000.0}, {\"ano\": 2013, \"regiao\": \"norte\", \"sexo\": \"Mulheres\", \"grupo_idade\": \"65 ou mais\", \"populacao\": 484000.0}, {\"ano\": 2014, \"regiao\": \"norte\", \"sexo\": \"Total\", \"grupo_idade\": \"0 a 9\", \"populacao\": 1410000.0}, {\"ano\": 2014, \"regiao\": \"norte\", \"sexo\": \"Total\", \"grupo_idade\": \"0 a 9\", \"populacao\": 1581000.0}, {\"ano\": 2014, \"regiao\": \"norte\", \"sexo\": \"Total\", \"grupo_idade\": \"10 a 19\", \"populacao\": 1411000.0}, {\"ano\": 2014, \"regiao\": \"norte\", \"sexo\": \"Total\", \"grupo_idade\": \"10 a 19\", \"populacao\": 739000.0}, {\"ano\": 2014, \"regiao\": \"norte\", \"sexo\": \"Total\", \"grupo_idade\": \"10 a 19\", \"populacao\": 720000.0}, {\"ano\": 2014, \"regiao\": \"norte\", \"sexo\": \"Total\", \"grupo_idade\": \"10 a 19\", \"populacao\": 690000.0}, {\"ano\": 2014, \"regiao\": \"norte\", \"sexo\": \"Total\", \"grupo_idade\": \"20 a 29\", \"populacao\": 1433000.0}, {\"ano\": 2014, \"regiao\": \"norte\", \"sexo\": \"Total\", \"grupo_idade\": \"20 a 29\", \"populacao\": 1379000.0}, {\"ano\": 2014, \"regiao\": \"norte\", \"sexo\": \"Total\", \"grupo_idade\": \"30 a 39\", \"populacao\": 2626000.0}, {\"ano\": 2014, \"regiao\": \"norte\", \"sexo\": \"Total\", \"grupo_idade\": \"40 a 49\", \"populacao\": 2069000.0}, {\"ano\": 2014, \"regiao\": \"norte\", \"sexo\": \"Total\", \"grupo_idade\": \"50 a 59\", \"populacao\": 1367000.0}, {\"ano\": 2014, \"regiao\": \"norte\", \"sexo\": \"Total\", \"grupo_idade\": \"60 a 64\", \"populacao\": 509000.0}, {\"ano\": 2014, \"regiao\": \"norte\", \"sexo\": \"Total\", \"grupo_idade\": \"65 ou mais\", \"populacao\": 991000.0}, {\"ano\": 2014, \"regiao\": \"norte\", \"sexo\": \"Homens\", \"grupo_idade\": \"0 a 9\", \"populacao\": -726000.0}, {\"ano\": 2014, \"regiao\": \"norte\", \"sexo\": \"Homens\", \"grupo_idade\": \"0 a 9\", \"populacao\": null}, {\"ano\": 2014, \"regiao\": \"norte\", \"sexo\": \"Homens\", \"grupo_idade\": \"10 a 19\", \"populacao\": -718000.0}, {\"ano\": 2014, \"regiao\": \"norte\", \"sexo\": \"Homens\", \"grupo_idade\": \"10 a 19\", \"populacao\": -399000.0}, {\"ano\": 2014, \"regiao\": \"norte\", \"sexo\": \"Homens\", \"grupo_idade\": \"10 a 19\", \"populacao\": -372000.0}, {\"ano\": 2014, \"regiao\": \"norte\", \"sexo\": \"Homens\", \"grupo_idade\": \"10 a 19\", \"populacao\": -356000.0}, {\"ano\": 2014, \"regiao\": \"norte\", \"sexo\": \"Homens\", \"grupo_idade\": \"20 a 29\", \"populacao\": -734000.0}, {\"ano\": 2014, \"regiao\": \"norte\", \"sexo\": \"Homens\", \"grupo_idade\": \"20 a 29\", \"populacao\": -660000.0}, {\"ano\": 2014, \"regiao\": \"norte\", \"sexo\": \"Homens\", \"grupo_idade\": \"30 a 39\", \"populacao\": -1260000.0}, {\"ano\": 2014, \"regiao\": \"norte\", \"sexo\": \"Homens\", \"grupo_idade\": \"40 a 49\", \"populacao\": -1026000.0}, {\"ano\": 2014, \"regiao\": \"norte\", \"sexo\": \"Homens\", \"grupo_idade\": \"50 a 59\", \"populacao\": -678000.0}, {\"ano\": 2014, \"regiao\": \"norte\", \"sexo\": \"Homens\", \"grupo_idade\": \"60 a 64\", \"populacao\": -256000.0}, {\"ano\": 2014, \"regiao\": \"norte\", \"sexo\": \"Homens\", \"grupo_idade\": \"65 ou mais\", \"populacao\": -479000.0}, {\"ano\": 2014, \"regiao\": \"norte\", \"sexo\": \"Mulheres\", \"grupo_idade\": \"0 a 9\", \"populacao\": 684000.0}, {\"ano\": 2014, \"regiao\": \"norte\", \"sexo\": \"Mulheres\", \"grupo_idade\": \"0 a 9\", \"populacao\": 781000.0}, {\"ano\": 2014, \"regiao\": \"norte\", \"sexo\": \"Mulheres\", \"grupo_idade\": \"10 a 19\", \"populacao\": 693000.0}, {\"ano\": 2014, \"regiao\": \"norte\", \"sexo\": \"Mulheres\", \"grupo_idade\": \"10 a 19\", \"populacao\": 341000.0}, {\"ano\": 2014, \"regiao\": \"norte\", \"sexo\": \"Mulheres\", \"grupo_idade\": \"10 a 19\", \"populacao\": 349000.0}, {\"ano\": 2014, \"regiao\": \"norte\", \"sexo\": \"Mulheres\", \"grupo_idade\": \"10 a 19\", \"populacao\": 334000.0}, {\"ano\": 2014, \"regiao\": \"norte\", \"sexo\": \"Mulheres\", \"grupo_idade\": \"20 a 29\", \"populacao\": 699000.0}, {\"ano\": 2014, \"regiao\": \"norte\", \"sexo\": \"Mulheres\", \"grupo_idade\": \"20 a 29\", \"populacao\": 720000.0}, {\"ano\": 2014, \"regiao\": \"norte\", \"sexo\": \"Mulheres\", \"grupo_idade\": \"30 a 39\", \"populacao\": 1366000.0}, {\"ano\": 2014, \"regiao\": \"norte\", \"sexo\": \"Mulheres\", \"grupo_idade\": \"40 a 49\", \"populacao\": 1043000.0}, {\"ano\": 2014, \"regiao\": \"norte\", \"sexo\": \"Mulheres\", \"grupo_idade\": \"50 a 59\", \"populacao\": 689000.0}, {\"ano\": 2014, \"regiao\": \"norte\", \"sexo\": \"Mulheres\", \"grupo_idade\": \"60 a 64\", \"populacao\": 253000.0}, {\"ano\": 2014, \"regiao\": \"norte\", \"sexo\": \"Mulheres\", \"grupo_idade\": \"65 ou mais\", \"populacao\": 511000.0}, {\"ano\": 2015, \"regiao\": \"norte\", \"sexo\": \"Total\", \"grupo_idade\": \"0 a 9\", \"populacao\": 1459000.0}, {\"ano\": 2015, \"regiao\": \"norte\", \"sexo\": \"Total\", \"grupo_idade\": \"0 a 9\", \"populacao\": 1607000.0}, {\"ano\": 2015, \"regiao\": \"norte\", \"sexo\": \"Total\", \"grupo_idade\": \"10 a 19\", \"populacao\": 1373000.0}, {\"ano\": 2015, \"regiao\": \"norte\", \"sexo\": \"Total\", \"grupo_idade\": \"10 a 19\", \"populacao\": 716000.0}, {\"ano\": 2015, \"regiao\": \"norte\", \"sexo\": \"Total\", \"grupo_idade\": \"10 a 19\", \"populacao\": 670000.0}, {\"ano\": 2015, \"regiao\": \"norte\", \"sexo\": \"Total\", \"grupo_idade\": \"10 a 19\", \"populacao\": 702000.0}, {\"ano\": 2015, \"regiao\": \"norte\", \"sexo\": \"Total\", \"grupo_idade\": \"20 a 29\", \"populacao\": 1474000.0}, {\"ano\": 2015, \"regiao\": \"norte\", \"sexo\": \"Total\", \"grupo_idade\": \"20 a 29\", \"populacao\": 1392000.0}, {\"ano\": 2015, \"regiao\": \"norte\", \"sexo\": \"Total\", \"grupo_idade\": \"30 a 39\", \"populacao\": 2699000.0}, {\"ano\": 2015, \"regiao\": \"norte\", \"sexo\": \"Total\", \"grupo_idade\": \"40 a 49\", \"populacao\": 2072000.0}, {\"ano\": 2015, \"regiao\": \"norte\", \"sexo\": \"Total\", \"grupo_idade\": \"50 a 59\", \"populacao\": 1464000.0}, {\"ano\": 2015, \"regiao\": \"norte\", \"sexo\": \"Total\", \"grupo_idade\": \"60 a 64\", \"populacao\": 516000.0}, {\"ano\": 2015, \"regiao\": \"norte\", \"sexo\": \"Total\", \"grupo_idade\": \"65 ou mais\", \"populacao\": 1018000.0}, {\"ano\": 2015, \"regiao\": \"norte\", \"sexo\": \"Homens\", \"grupo_idade\": \"0 a 9\", \"populacao\": -752000.0}, {\"ano\": 2015, \"regiao\": \"norte\", \"sexo\": \"Homens\", \"grupo_idade\": \"0 a 9\", \"populacao\": -849000.0}, {\"ano\": 2015, \"regiao\": \"norte\", \"sexo\": \"Homens\", \"grupo_idade\": \"10 a 19\", \"populacao\": -689000.0}, {\"ano\": 2015, \"regiao\": \"norte\", \"sexo\": \"Homens\", \"grupo_idade\": \"10 a 19\", \"populacao\": -371000.0}, {\"ano\": 2015, \"regiao\": \"norte\", \"sexo\": \"Homens\", \"grupo_idade\": \"10 a 19\", \"populacao\": -334000.0}, {\"ano\": 2015, \"regiao\": \"norte\", \"sexo\": \"Homens\", \"grupo_idade\": \"10 a 19\", \"populacao\": -350000.0}, {\"ano\": 2015, \"regiao\": \"norte\", \"sexo\": \"Homens\", \"grupo_idade\": \"20 a 29\", \"populacao\": -727000.0}, {\"ano\": 2015, \"regiao\": \"norte\", \"sexo\": \"Homens\", \"grupo_idade\": \"20 a 29\", \"populacao\": -681000.0}, {\"ano\": 2015, \"regiao\": \"norte\", \"sexo\": \"Homens\", \"grupo_idade\": \"30 a 39\", \"populacao\": -1334000.0}, {\"ano\": 2015, \"regiao\": \"norte\", \"sexo\": \"Homens\", \"grupo_idade\": \"40 a 49\", \"populacao\": -1036000.0}, {\"ano\": 2015, \"regiao\": \"norte\", \"sexo\": \"Homens\", \"grupo_idade\": \"50 a 59\", \"populacao\": -716000.0}, {\"ano\": 2015, \"regiao\": \"norte\", \"sexo\": \"Homens\", \"grupo_idade\": \"60 a 64\", \"populacao\": -251000.0}, {\"ano\": 2015, \"regiao\": \"norte\", \"sexo\": \"Homens\", \"grupo_idade\": \"65 ou mais\", \"populacao\": -485000.0}, {\"ano\": 2015, \"regiao\": \"norte\", \"sexo\": \"Mulheres\", \"grupo_idade\": \"0 a 9\", \"populacao\": 708000.0}, {\"ano\": 2015, \"regiao\": \"norte\", \"sexo\": \"Mulheres\", \"grupo_idade\": \"0 a 9\", \"populacao\": 759000.0}, {\"ano\": 2015, \"regiao\": \"norte\", \"sexo\": \"Mulheres\", \"grupo_idade\": \"10 a 19\", \"populacao\": 684000.0}, {\"ano\": 2015, \"regiao\": \"norte\", \"sexo\": \"Mulheres\", \"grupo_idade\": \"10 a 19\", \"populacao\": 345000.0}, {\"ano\": 2015, \"regiao\": \"norte\", \"sexo\": \"Mulheres\", \"grupo_idade\": \"10 a 19\", \"populacao\": 336000.0}, {\"ano\": 2015, \"regiao\": \"norte\", \"sexo\": \"Mulheres\", \"grupo_idade\": \"10 a 19\", \"populacao\": 352000.0}, {\"ano\": 2015, \"regiao\": \"norte\", \"sexo\": \"Mulheres\", \"grupo_idade\": \"20 a 29\", \"populacao\": 747000.0}, {\"ano\": 2015, \"regiao\": \"norte\", \"sexo\": \"Mulheres\", \"grupo_idade\": \"20 a 29\", \"populacao\": 711000.0}, {\"ano\": 2015, \"regiao\": \"norte\", \"sexo\": \"Mulheres\", \"grupo_idade\": \"30 a 39\", \"populacao\": 1365000.0}, {\"ano\": 2015, \"regiao\": \"norte\", \"sexo\": \"Mulheres\", \"grupo_idade\": \"40 a 49\", \"populacao\": 1035000.0}, {\"ano\": 2015, \"regiao\": \"norte\", \"sexo\": \"Mulheres\", \"grupo_idade\": \"50 a 59\", \"populacao\": 748000.0}, {\"ano\": 2015, \"regiao\": \"norte\", \"sexo\": \"Mulheres\", \"grupo_idade\": \"60 a 64\", \"populacao\": 265000.0}, {\"ano\": 2015, \"regiao\": \"norte\", \"sexo\": \"Mulheres\", \"grupo_idade\": \"65 ou mais\", \"populacao\": 533000.0}, {\"ano\": 2016, \"regiao\": \"norte\", \"sexo\": \"Total\", \"grupo_idade\": \"0 a 9\", \"populacao\": 1425000.0}, {\"ano\": 2016, \"regiao\": \"norte\", \"sexo\": \"Total\", \"grupo_idade\": \"0 a 9\", \"populacao\": 1529000.0}, {\"ano\": 2016, \"regiao\": \"norte\", \"sexo\": \"Total\", \"grupo_idade\": \"10 a 19\", \"populacao\": 1325000.0}, {\"ano\": 2016, \"regiao\": \"norte\", \"sexo\": \"Total\", \"grupo_idade\": \"10 a 19\", \"populacao\": 703000.0}, {\"ano\": 2016, \"regiao\": \"norte\", \"sexo\": \"Total\", \"grupo_idade\": \"10 a 19\", \"populacao\": 711000.0}, {\"ano\": 2016, \"regiao\": \"norte\", \"sexo\": \"Total\", \"grupo_idade\": \"10 a 19\", \"populacao\": 701000.0}, {\"ano\": 2016, \"regiao\": \"norte\", \"sexo\": \"Total\", \"grupo_idade\": \"20 a 29\", \"populacao\": 1529000.0}, {\"ano\": 2016, \"regiao\": \"norte\", \"sexo\": \"Total\", \"grupo_idade\": \"20 a 29\", \"populacao\": 1365000.0}, {\"ano\": 2016, \"regiao\": \"norte\", \"sexo\": \"Total\", \"grupo_idade\": \"30 a 39\", \"populacao\": 2785000.0}, {\"ano\": 2016, \"regiao\": \"norte\", \"sexo\": \"Total\", \"grupo_idade\": \"40 a 49\", \"populacao\": 2159000.0}, {\"ano\": 2016, \"regiao\": \"norte\", \"sexo\": \"Total\", \"grupo_idade\": \"50 a 59\", \"populacao\": 1564000.0}, {\"ano\": 2016, \"regiao\": \"norte\", \"sexo\": \"Total\", \"grupo_idade\": \"60 a 64\", \"populacao\": 523000.0}, {\"ano\": 2016, \"regiao\": \"norte\", \"sexo\": \"Total\", \"grupo_idade\": \"65 ou mais\", \"populacao\": 1075000.0}, {\"ano\": 2016, \"regiao\": \"norte\", \"sexo\": \"Homens\", \"grupo_idade\": \"0 a 9\", \"populacao\": -736000.0}, {\"ano\": 2016, \"regiao\": \"norte\", \"sexo\": \"Homens\", \"grupo_idade\": \"0 a 9\", \"populacao\": -787000.0}, {\"ano\": 2016, \"regiao\": \"norte\", \"sexo\": \"Homens\", \"grupo_idade\": \"10 a 19\", \"populacao\": -681000.0}, {\"ano\": 2016, \"regiao\": \"norte\", \"sexo\": \"Homens\", \"grupo_idade\": \"10 a 19\", \"populacao\": -371000.0}, {\"ano\": 2016, \"regiao\": \"norte\", \"sexo\": \"Homens\", \"grupo_idade\": \"10 a 19\", \"populacao\": -372000.0}, {\"ano\": 2016, \"regiao\": \"norte\", \"sexo\": \"Homens\", \"grupo_idade\": \"10 a 19\", \"populacao\": -366000.0}, {\"ano\": 2016, \"regiao\": \"norte\", \"sexo\": \"Homens\", \"grupo_idade\": \"20 a 29\", \"populacao\": -759000.0}, {\"ano\": 2016, \"regiao\": \"norte\", \"sexo\": \"Homens\", \"grupo_idade\": \"20 a 29\", \"populacao\": -670000.0}, {\"ano\": 2016, \"regiao\": \"norte\", \"sexo\": \"Homens\", \"grupo_idade\": \"30 a 39\", \"populacao\": -1343000.0}, {\"ano\": 2016, \"regiao\": \"norte\", \"sexo\": \"Homens\", \"grupo_idade\": \"40 a 49\", \"populacao\": -1053000.0}, {\"ano\": 2016, \"regiao\": \"norte\", \"sexo\": \"Homens\", \"grupo_idade\": \"50 a 59\", \"populacao\": -771000.0}, {\"ano\": 2016, \"regiao\": \"norte\", \"sexo\": \"Homens\", \"grupo_idade\": \"60 a 64\", \"populacao\": -265000.0}, {\"ano\": 2016, \"regiao\": \"norte\", \"sexo\": \"Homens\", \"grupo_idade\": \"65 ou mais\", \"populacao\": -520000.0}, {\"ano\": 2016, \"regiao\": \"norte\", \"sexo\": \"Mulheres\", \"grupo_idade\": \"0 a 9\", \"populacao\": 688000.0}, {\"ano\": 2016, \"regiao\": \"norte\", \"sexo\": \"Mulheres\", \"grupo_idade\": \"0 a 9\", \"populacao\": 742000.0}, {\"ano\": 2016, \"regiao\": \"norte\", \"sexo\": \"Mulheres\", \"grupo_idade\": \"10 a 19\", \"populacao\": 644000.0}, {\"ano\": 2016, \"regiao\": \"norte\", \"sexo\": \"Mulheres\", \"grupo_idade\": \"10 a 19\", \"populacao\": 332000.0}, {\"ano\": 2016, \"regiao\": \"norte\", \"sexo\": \"Mulheres\", \"grupo_idade\": \"10 a 19\", \"populacao\": 339000.0}, {\"ano\": 2016, \"regiao\": \"norte\", \"sexo\": \"Mulheres\", \"grupo_idade\": \"10 a 19\", \"populacao\": 336000.0}, {\"ano\": 2016, \"regiao\": \"norte\", \"sexo\": \"Mulheres\", \"grupo_idade\": \"20 a 29\", \"populacao\": 770000.0}, {\"ano\": 2016, \"regiao\": \"norte\", \"sexo\": \"Mulheres\", \"grupo_idade\": \"20 a 29\", \"populacao\": 695000.0}, {\"ano\": 2016, \"regiao\": \"norte\", \"sexo\": \"Mulheres\", \"grupo_idade\": \"30 a 39\", \"populacao\": 1442000.0}, {\"ano\": 2016, \"regiao\": \"norte\", \"sexo\": \"Mulheres\", \"grupo_idade\": \"40 a 49\", \"populacao\": 1105000.0}, {\"ano\": 2016, \"regiao\": \"norte\", \"sexo\": \"Mulheres\", \"grupo_idade\": \"50 a 59\", \"populacao\": 792000.0}, {\"ano\": 2016, \"regiao\": \"norte\", \"sexo\": \"Mulheres\", \"grupo_idade\": \"60 a 64\", \"populacao\": 258000.0}, {\"ano\": 2016, \"regiao\": \"norte\", \"sexo\": \"Mulheres\", \"grupo_idade\": \"65 ou mais\", \"populacao\": 555000.0}, {\"ano\": 2017, \"regiao\": \"norte\", \"sexo\": \"Total\", \"grupo_idade\": \"0 a 9\", \"populacao\": 1380000.0}, {\"ano\": 2017, \"regiao\": \"norte\", \"sexo\": \"Total\", \"grupo_idade\": \"0 a 9\", \"populacao\": 1492000.0}, {\"ano\": 2017, \"regiao\": \"norte\", \"sexo\": \"Total\", \"grupo_idade\": \"10 a 19\", \"populacao\": 1326000.0}, {\"ano\": 2017, \"regiao\": \"norte\", \"sexo\": \"Total\", \"grupo_idade\": \"10 a 19\", \"populacao\": 681000.0}, {\"ano\": 2017, \"regiao\": \"norte\", \"sexo\": \"Total\", \"grupo_idade\": \"10 a 19\", \"populacao\": 730000.0}, {\"ano\": 2017, \"regiao\": \"norte\", \"sexo\": \"Total\", \"grupo_idade\": \"10 a 19\", \"populacao\": null}, {\"ano\": 2017, \"regiao\": \"norte\", \"sexo\": \"Total\", \"grupo_idade\": \"20 a 29\", \"populacao\": 1554000.0}, {\"ano\": 2017, \"regiao\": \"norte\", \"sexo\": \"Total\", \"grupo_idade\": \"20 a 29\", \"populacao\": 1383000.0}, {\"ano\": 2017, \"regiao\": \"norte\", \"sexo\": \"Total\", \"grupo_idade\": \"30 a 39\", \"populacao\": 2797000.0}, {\"ano\": 2017, \"regiao\": \"norte\", \"sexo\": \"Total\", \"grupo_idade\": \"40 a 49\", \"populacao\": 2247000.0}, {\"ano\": 2017, \"regiao\": \"norte\", \"sexo\": \"Total\", \"grupo_idade\": \"50 a 59\", \"populacao\": 1623000.0}, {\"ano\": 2017, \"regiao\": \"norte\", \"sexo\": \"Total\", \"grupo_idade\": \"60 a 64\", \"populacao\": 592000.0}, {\"ano\": 2017, \"regiao\": \"norte\", \"sexo\": \"Total\", \"grupo_idade\": \"65 ou mais\", \"populacao\": 1120000.0}, {\"ano\": 2017, \"regiao\": \"norte\", \"sexo\": \"Homens\", \"grupo_idade\": \"0 a 9\", \"populacao\": -689000.0}, {\"ano\": 2017, \"regiao\": \"norte\", \"sexo\": \"Homens\", \"grupo_idade\": \"0 a 9\", \"populacao\": -776000.0}, {\"ano\": 2017, \"regiao\": \"norte\", \"sexo\": \"Homens\", \"grupo_idade\": \"10 a 19\", \"populacao\": -681000.0}, {\"ano\": 2017, \"regiao\": \"norte\", \"sexo\": \"Homens\", \"grupo_idade\": \"10 a 19\", \"populacao\": -359000.0}, {\"ano\": 2017, \"regiao\": \"norte\", \"sexo\": \"Homens\", \"grupo_idade\": \"10 a 19\", \"populacao\": -353000.0}, {\"ano\": 2017, \"regiao\": \"norte\", \"sexo\": \"Homens\", \"grupo_idade\": \"10 a 19\", \"populacao\": -356000.0}, {\"ano\": 2017, \"regiao\": \"norte\", \"sexo\": \"Homens\", \"grupo_idade\": \"20 a 29\", \"populacao\": null}, {\"ano\": 2017, \"regiao\": \"norte\", \"sexo\": \"Homens\", \"grupo_idade\": \"20 a 29\", \"populacao\": -683000.0}, {\"ano\": 2017, \"regiao\": \"norte\", \"sexo\": \"Homens\", \"grupo_idade\": \"30 a 39\", \"populacao\": -1372000.0}, {\"ano\": 2017, \"regiao\": \"norte\", \"sexo\": \"Homens\", \"grupo_idade\": \"40 a 49\", \"populacao\": -1090000.0}, {\"ano\": 2017, \"regiao\": \"norte\", \"sexo\": \"Homens\", \"grupo_idade\": \"50 a 59\", \"populacao\": -789000.0}, {\"ano\": 2017, \"regiao\": \"norte\", \"sexo\": \"Homens\", \"grupo_idade\": \"60 a 64\", \"populacao\": -281000.0}, {\"ano\": 2017, \"regiao\": \"norte\", \"sexo\": \"Homens\", \"grupo_idade\": \"65 ou mais\", \"populacao\": -543000.0}, {\"ano\": 2017, \"regiao\": \"norte\", \"sexo\": \"Mulheres\", \"grupo_idade\": \"0 a 9\", \"populacao\": 691000.0}, {\"ano\": 2017, \"regiao\": \"norte\", \"sexo\": \"Mulheres\", \"grupo_idade\": \"0 a 9\", \"populacao\": 716000.0}, {\"ano\": 2017, \"regiao\": \"norte\", \"sexo\": \"Mulheres\", \"grupo_idade\": \"10 a 19\", \"populacao\": 646000.0}, {\"ano\": 2017, \"regiao\": \"norte\", \"sexo\": \"Mulheres\", \"grupo_idade\": \"10 a 19\", \"populacao\": 322000.0}, {\"ano\": 2017, \"regiao\": \"norte\", \"sexo\": \"Mulheres\", \"grupo_idade\": \"10 a 19\", \"populacao\": 377000.0}, {\"ano\": 2017, \"regiao\": \"norte\", \"sexo\": \"Mulheres\", \"grupo_idade\": \"10 a 19\", \"populacao\": 343000.0}, {\"ano\": 2017, \"regiao\": \"norte\", \"sexo\": \"Mulheres\", \"grupo_idade\": \"20 a 29\", \"populacao\": 755000.0}, {\"ano\": 2017, \"regiao\": \"norte\", \"sexo\": \"Mulheres\", \"grupo_idade\": \"20 a 29\", \"populacao\": null}, {\"ano\": 2017, \"regiao\": \"norte\", \"sexo\": \"Mulheres\", \"grupo_idade\": \"30 a 39\", \"populacao\": 1424000.0}, {\"ano\": 2017, \"regiao\": \"norte\", \"sexo\": \"Mulheres\", \"grupo_idade\": \"40 a 49\", \"populacao\": 1158000.0}, {\"ano\": 2017, \"regiao\": \"norte\", \"sexo\": \"Mulheres\", \"grupo_idade\": \"50 a 59\", \"populacao\": 834000.0}, {\"ano\": 2017, \"regiao\": \"norte\", \"sexo\": \"Mulheres\", \"grupo_idade\": \"60 a 64\", \"populacao\": 311000.0}, {\"ano\": 2017, \"regiao\": \"norte\", \"sexo\": \"Mulheres\", \"grupo_idade\": \"65 ou mais\", \"populacao\": 576000.0}, {\"ano\": 2018, \"regiao\": \"norte\", \"sexo\": \"Total\", \"grupo_idade\": \"0 a 9\", \"populacao\": 1386000.0}, {\"ano\": 2018, \"regiao\": \"norte\", \"sexo\": \"Total\", \"grupo_idade\": \"0 a 9\", \"populacao\": 1455000.0}, {\"ano\": 2018, \"regiao\": \"norte\", \"sexo\": \"Total\", \"grupo_idade\": \"10 a 19\", \"populacao\": 1314000.0}, {\"ano\": 2018, \"regiao\": \"norte\", \"sexo\": \"Total\", \"grupo_idade\": \"10 a 19\", \"populacao\": 676000.0}, {\"ano\": 2018, \"regiao\": \"norte\", \"sexo\": \"Total\", \"grupo_idade\": \"10 a 19\", \"populacao\": 683000.0}, {\"ano\": 2018, \"regiao\": \"norte\", \"sexo\": \"Total\", \"grupo_idade\": \"10 a 19\", \"populacao\": 689000.0}, {\"ano\": 2018, \"regiao\": \"norte\", \"sexo\": \"Total\", \"grupo_idade\": \"20 a 29\", \"populacao\": 1571000.0}, {\"ano\": 2018, \"regiao\": \"norte\", \"sexo\": \"Total\", \"grupo_idade\": \"20 a 29\", \"populacao\": 1355000.0}, {\"ano\": 2018, \"regiao\": \"norte\", \"sexo\": \"Total\", \"grupo_idade\": \"30 a 39\", \"populacao\": 2831000.0}, {\"ano\": 2018, \"regiao\": \"norte\", \"sexo\": \"Total\", \"grupo_idade\": \"40 a 49\", \"populacao\": 2312000.0}, {\"ano\": 2018, \"regiao\": \"norte\", \"sexo\": \"Total\", \"grupo_idade\": \"50 a 59\", \"populacao\": 1688000.0}, {\"ano\": 2018, \"regiao\": \"norte\", \"sexo\": \"Total\", \"grupo_idade\": \"60 a 64\", \"populacao\": 627000.0}, {\"ano\": 2018, \"regiao\": \"norte\", \"sexo\": \"Total\", \"grupo_idade\": \"65 ou mais\", \"populacao\": 1285000.0}, {\"ano\": 2018, \"regiao\": \"norte\", \"sexo\": \"Homens\", \"grupo_idade\": \"0 a 9\", \"populacao\": -722000.0}, {\"ano\": 2018, \"regiao\": \"norte\", \"sexo\": \"Homens\", \"grupo_idade\": \"0 a 9\", \"populacao\": -726000.0}, {\"ano\": 2018, \"regiao\": \"norte\", \"sexo\": \"Homens\", \"grupo_idade\": \"10 a 19\", \"populacao\": -697000.0}, {\"ano\": 2018, \"regiao\": \"norte\", \"sexo\": \"Homens\", \"grupo_idade\": \"10 a 19\", \"populacao\": -349000.0}, {\"ano\": 2018, \"regiao\": \"norte\", \"sexo\": \"Homens\", \"grupo_idade\": \"10 a 19\", \"populacao\": -350000.0}, {\"ano\": 2018, \"regiao\": \"norte\", \"sexo\": \"Homens\", \"grupo_idade\": \"10 a 19\", \"populacao\": -366000.0}, {\"ano\": 2018, \"regiao\": \"norte\", \"sexo\": \"Homens\", \"grupo_idade\": \"20 a 29\", \"populacao\": -784000.0}, {\"ano\": 2018, \"regiao\": \"norte\", \"sexo\": \"Homens\", \"grupo_idade\": \"20 a 29\", \"populacao\": -670000.0}, {\"ano\": 2018, \"regiao\": \"norte\", \"sexo\": \"Homens\", \"grupo_idade\": \"30 a 39\", \"populacao\": -1372000.0}, {\"ano\": 2018, \"regiao\": \"norte\", \"sexo\": \"Homens\", \"grupo_idade\": \"40 a 49\", \"populacao\": -1132000.0}, {\"ano\": 2018, \"regiao\": \"norte\", \"sexo\": \"Homens\", \"grupo_idade\": \"50 a 59\", \"populacao\": -828000.0}, {\"ano\": 2018, \"regiao\": \"norte\", \"sexo\": \"Homens\", \"grupo_idade\": \"60 a 64\", \"populacao\": -295000.0}, {\"ano\": 2018, \"regiao\": \"norte\", \"sexo\": \"Homens\", \"grupo_idade\": \"65 ou mais\", \"populacao\": -628000.0}, {\"ano\": 2018, \"regiao\": \"norte\", \"sexo\": \"Mulheres\", \"grupo_idade\": \"0 a 9\", \"populacao\": 663000.0}, {\"ano\": 2018, \"regiao\": \"norte\", \"sexo\": \"Mulheres\", \"grupo_idade\": \"0 a 9\", \"populacao\": 729000.0}, {\"ano\": 2018, \"regiao\": \"norte\", \"sexo\": \"Mulheres\", \"grupo_idade\": \"10 a 19\", \"populacao\": 617000.0}, {\"ano\": 2018, \"regiao\": \"norte\", \"sexo\": \"Mulheres\", \"grupo_idade\": \"10 a 19\", \"populacao\": 327000.0}, {\"ano\": 2018, \"regiao\": \"norte\", \"sexo\": \"Mulheres\", \"grupo_idade\": \"10 a 19\", \"populacao\": 333000.0}, {\"ano\": 2018, \"regiao\": \"norte\", \"sexo\": \"Mulheres\", \"grupo_idade\": \"10 a 19\", \"populacao\": 324000.0}, {\"ano\": 2018, \"regiao\": \"norte\", \"sexo\": \"Mulheres\", \"grupo_idade\": \"20 a 29\", \"populacao\": 787000.0}, {\"ano\": 2018, \"regiao\": \"norte\", \"sexo\": \"Mulheres\", \"grupo_idade\": \"20 a 29\", \"populacao\": 684000.0}, {\"ano\": 2018, \"regiao\": \"norte\", \"sexo\": \"Mulheres\", \"grupo_idade\": \"30 a 39\", \"populacao\": 1460000.0}, {\"ano\": 2018, \"regiao\": \"norte\", \"sexo\": \"Mulheres\", \"grupo_idade\": \"40 a 49\", \"populacao\": 1180000.0}, {\"ano\": 2018, \"regiao\": \"norte\", \"sexo\": \"Mulheres\", \"grupo_idade\": \"50 a 59\", \"populacao\": 860000.0}, {\"ano\": 2018, \"regiao\": \"norte\", \"sexo\": \"Mulheres\", \"grupo_idade\": \"60 a 64\", \"populacao\": 331000.0}, {\"ano\": 2018, \"regiao\": \"norte\", \"sexo\": \"Mulheres\", \"grupo_idade\": \"65 ou mais\", \"populacao\": 657000.0}, {\"ano\": 2019, \"regiao\": \"norte\", \"sexo\": \"Total\", \"grupo_idade\": \"0 a 9\", \"populacao\": 1402000.0}, {\"ano\": 2019, \"regiao\": \"norte\", \"sexo\": \"Total\", \"grupo_idade\": \"0 a 9\", \"populacao\": 1492000.0}, {\"ano\": 2019, \"regiao\": \"norte\", \"sexo\": \"Total\", \"grupo_idade\": \"10 a 19\", \"populacao\": 1271000.0}, {\"ano\": 2019, \"regiao\": \"norte\", \"sexo\": \"Total\", \"grupo_idade\": \"10 a 19\", \"populacao\": 669000.0}, {\"ano\": 2019, \"regiao\": \"norte\", \"sexo\": \"Total\", \"grupo_idade\": \"10 a 19\", \"populacao\": 659000.0}, {\"ano\": 2019, \"regiao\": \"norte\", \"sexo\": \"Total\", \"grupo_idade\": \"10 a 19\", \"populacao\": 688000.0}, {\"ano\": 2019, \"regiao\": \"norte\", \"sexo\": \"Total\", \"grupo_idade\": \"20 a 29\", \"populacao\": 1625000.0}, {\"ano\": 2019, \"regiao\": \"norte\", \"sexo\": \"Total\", \"grupo_idade\": \"20 a 29\", \"populacao\": 1409000.0}, {\"ano\": 2019, \"regiao\": \"norte\", \"sexo\": \"Total\", \"grupo_idade\": \"30 a 39\", \"populacao\": 2880000.0}, {\"ano\": 2019, \"regiao\": \"norte\", \"sexo\": \"Total\", \"grupo_idade\": \"40 a 49\", \"populacao\": 2337000.0}, {\"ano\": 2019, \"regiao\": \"norte\", \"sexo\": \"Total\", \"grupo_idade\": \"50 a 59\", \"populacao\": 1720000.0}, {\"ano\": 2019, \"regiao\": \"norte\", \"sexo\": \"Total\", \"grupo_idade\": \"60 a 64\", \"populacao\": 658000.0}, {\"ano\": 2019, \"regiao\": \"norte\", \"sexo\": \"Total\", \"grupo_idade\": \"65 ou mais\", \"populacao\": 1304000.0}, {\"ano\": 2019, \"regiao\": \"norte\", \"sexo\": \"Homens\", \"grupo_idade\": \"0 a 9\", \"populacao\": -714000.0}, {\"ano\": 2019, \"regiao\": \"norte\", \"sexo\": \"Homens\", \"grupo_idade\": \"0 a 9\", \"populacao\": -753000.0}, {\"ano\": 2019, \"regiao\": \"norte\", \"sexo\": \"Homens\", \"grupo_idade\": \"10 a 19\", \"populacao\": -634000.0}, {\"ano\": 2019, \"regiao\": \"norte\", \"sexo\": \"Homens\", \"grupo_idade\": \"10 a 19\", \"populacao\": -350000.0}, {\"ano\": 2019, \"regiao\": \"norte\", \"sexo\": \"Homens\", \"grupo_idade\": \"10 a 19\", \"populacao\": -339000.0}, {\"ano\": 2019, \"regiao\": \"norte\", \"sexo\": \"Homens\", \"grupo_idade\": \"10 a 19\", \"populacao\": -336000.0}, {\"ano\": 2019, \"regiao\": \"norte\", \"sexo\": \"Homens\", \"grupo_idade\": \"20 a 29\", \"populacao\": -826000.0}, {\"ano\": 2019, \"regiao\": \"norte\", \"sexo\": \"Homens\", \"grupo_idade\": \"20 a 29\", \"populacao\": -696000.0}, {\"ano\": 2019, \"regiao\": \"norte\", \"sexo\": \"Homens\", \"grupo_idade\": \"30 a 39\", \"populacao\": -1379000.0}, {\"ano\": 2019, \"regiao\": \"norte\", \"sexo\": \"Homens\", \"grupo_idade\": \"40 a 49\", \"populacao\": -1118000.0}, {\"ano\": 2019, \"regiao\": \"norte\", \"sexo\": \"Homens\", \"grupo_idade\": \"50 a 59\", \"populacao\": -841000.0}, {\"ano\": 2019, \"regiao\": \"norte\", \"sexo\": \"Homens\", \"grupo_idade\": \"60 a 64\", \"populacao\": -311000.0}, {\"ano\": 2019, \"regiao\": \"norte\", \"sexo\": \"Homens\", \"grupo_idade\": \"65 ou mais\", \"populacao\": -626000.0}, {\"ano\": 2019, \"regiao\": \"norte\", \"sexo\": \"Mulheres\", \"grupo_idade\": \"0 a 9\", \"populacao\": 688000.0}, {\"ano\": 2019, \"regiao\": \"norte\", \"sexo\": \"Mulheres\", \"grupo_idade\": \"0 a 9\", \"populacao\": 739000.0}, {\"ano\": 2019, \"regiao\": \"norte\", \"sexo\": \"Mulheres\", \"grupo_idade\": \"10 a 19\", \"populacao\": 636000.0}, {\"ano\": 2019, \"regiao\": \"norte\", \"sexo\": \"Mulheres\", \"grupo_idade\": \"10 a 19\", \"populacao\": 319000.0}, {\"ano\": 2019, \"regiao\": \"norte\", \"sexo\": \"Mulheres\", \"grupo_idade\": \"10 a 19\", \"populacao\": 320000.0}, {\"ano\": 2019, \"regiao\": \"norte\", \"sexo\": \"Mulheres\", \"grupo_idade\": \"10 a 19\", \"populacao\": 352000.0}, {\"ano\": 2019, \"regiao\": \"norte\", \"sexo\": \"Mulheres\", \"grupo_idade\": \"20 a 29\", \"populacao\": 799000.0}, {\"ano\": 2019, \"regiao\": \"norte\", \"sexo\": \"Mulheres\", \"grupo_idade\": \"20 a 29\", \"populacao\": 713000.0}, {\"ano\": 2019, \"regiao\": \"norte\", \"sexo\": \"Mulheres\", \"grupo_idade\": \"30 a 39\", \"populacao\": 1501000.0}, {\"ano\": 2019, \"regiao\": \"norte\", \"sexo\": \"Mulheres\", \"grupo_idade\": \"40 a 49\", \"populacao\": 1218000.0}, {\"ano\": 2019, \"regiao\": \"norte\", \"sexo\": \"Mulheres\", \"grupo_idade\": \"50 a 59\", \"populacao\": 879000.0}, {\"ano\": 2019, \"regiao\": \"norte\", \"sexo\": \"Mulheres\", \"grupo_idade\": \"60 a 64\", \"populacao\": 347000.0}, {\"ano\": 2019, \"regiao\": \"norte\", \"sexo\": \"Mulheres\", \"grupo_idade\": \"65 ou mais\", \"populacao\": 677000.0}]}}, {\"mode\": \"vega-lite\"});\n",
              "</script>"
            ],
            "text/plain": [
              "alt.ConcatChart(...)"
            ]
          },
          "metadata": {},
          "execution_count": 181
        }
      ]
    },
    {
      "cell_type": "markdown",
      "source": [
        "# Conclusão\n",
        "Tive algumas dificuldades no início da atividade para acessar o dataframe, então troquei a opção algumas vezes até achar um com tamanho que me permitisse baixá-lo em .csv mas que ainda permitisse uma análise interessante. Melhorei a segmentação do gráfico de pizza, que estava exagerada pelo retorno incorreto do df em detrimento ao filtered_df, e tive a mesma percepção com o histograma. A princípio meus gráficos de linha consideravam os potos de discretização dos anos como valendo 0 no conjunto de dados, o que resultava em um gráfico de caráter triangular.\n",
        "Infelizmente, para esse DataFrame não faria sentido me apegar à media, mediana e desvio padrão dos valores, pois esses conteriam pouca informação a respeito do movimento da população brasileira. Outra decepção foi a escassez de dados, que começam apenas em 2012.\n",
        "Mesmo assim, estou especialmente orgulhosa do resultado final da pirâmide etária, que exprime bem um país em transição de uma base larga para um topo largo: isto é, com decaimento das taxas de natalidade e aumento da expectativa e qualidade de vida. Também gostei bastante do gráfico de linha incremental. Gostaria de ter feito um último, com as distribuições em mapa, mas isso só me ocorreu ao final da atividade."
      ],
      "metadata": {
        "id": "1GvJFVnVdD7D"
      }
    },
    {
      "cell_type": "code",
      "source": [
        "# Upload ipynb\n",
        "from google.colab import files\n",
        "f = files.upload()\n",
        "# Convert ipynb to html\n",
        "import subprocess\n",
        "file0 = list(f.keys())[0]\n",
        "_ = subprocess.run([\"pip\",\"install\",\"nbconvert\"])\n",
        "_ = subprocess.run([\"jupyter\",\"nbconvert\", file0,\"--to\",\"html\"])\n",
        "# download the html\n",
        "files.download(file0[:-5]+\"html\")"
      ],
      "metadata": {
        "colab": {
          "base_uri": "https://localhost:8080/",
          "height": 73
        },
        "id": "SGCEi2sVGizi",
        "outputId": "842fb5c0-ed84-41d0-ba59-9954bfc07eae"
      },
      "execution_count": 126,
      "outputs": [
        {
          "output_type": "display_data",
          "data": {
            "text/plain": [
              "<IPython.core.display.HTML object>"
            ],
            "text/html": [
              "\n",
              "     <input type=\"file\" id=\"files-a18af29e-0143-462c-8bba-b75a176fe083\" name=\"files[]\" multiple disabled\n",
              "        style=\"border:none\" />\n",
              "     <output id=\"result-a18af29e-0143-462c-8bba-b75a176fe083\">\n",
              "      Upload widget is only available when the cell has been executed in the\n",
              "      current browser session. Please rerun this cell to enable.\n",
              "      </output>\n",
              "      <script>// Copyright 2017 Google LLC\n",
              "//\n",
              "// Licensed under the Apache License, Version 2.0 (the \"License\");\n",
              "// you may not use this file except in compliance with the License.\n",
              "// You may obtain a copy of the License at\n",
              "//\n",
              "//      http://www.apache.org/licenses/LICENSE-2.0\n",
              "//\n",
              "// Unless required by applicable law or agreed to in writing, software\n",
              "// distributed under the License is distributed on an \"AS IS\" BASIS,\n",
              "// WITHOUT WARRANTIES OR CONDITIONS OF ANY KIND, either express or implied.\n",
              "// See the License for the specific language governing permissions and\n",
              "// limitations under the License.\n",
              "\n",
              "/**\n",
              " * @fileoverview Helpers for google.colab Python module.\n",
              " */\n",
              "(function(scope) {\n",
              "function span(text, styleAttributes = {}) {\n",
              "  const element = document.createElement('span');\n",
              "  element.textContent = text;\n",
              "  for (const key of Object.keys(styleAttributes)) {\n",
              "    element.style[key] = styleAttributes[key];\n",
              "  }\n",
              "  return element;\n",
              "}\n",
              "\n",
              "// Max number of bytes which will be uploaded at a time.\n",
              "const MAX_PAYLOAD_SIZE = 100 * 1024;\n",
              "\n",
              "function _uploadFiles(inputId, outputId) {\n",
              "  const steps = uploadFilesStep(inputId, outputId);\n",
              "  const outputElement = document.getElementById(outputId);\n",
              "  // Cache steps on the outputElement to make it available for the next call\n",
              "  // to uploadFilesContinue from Python.\n",
              "  outputElement.steps = steps;\n",
              "\n",
              "  return _uploadFilesContinue(outputId);\n",
              "}\n",
              "\n",
              "// This is roughly an async generator (not supported in the browser yet),\n",
              "// where there are multiple asynchronous steps and the Python side is going\n",
              "// to poll for completion of each step.\n",
              "// This uses a Promise to block the python side on completion of each step,\n",
              "// then passes the result of the previous step as the input to the next step.\n",
              "function _uploadFilesContinue(outputId) {\n",
              "  const outputElement = document.getElementById(outputId);\n",
              "  const steps = outputElement.steps;\n",
              "\n",
              "  const next = steps.next(outputElement.lastPromiseValue);\n",
              "  return Promise.resolve(next.value.promise).then((value) => {\n",
              "    // Cache the last promise value to make it available to the next\n",
              "    // step of the generator.\n",
              "    outputElement.lastPromiseValue = value;\n",
              "    return next.value.response;\n",
              "  });\n",
              "}\n",
              "\n",
              "/**\n",
              " * Generator function which is called between each async step of the upload\n",
              " * process.\n",
              " * @param {string} inputId Element ID of the input file picker element.\n",
              " * @param {string} outputId Element ID of the output display.\n",
              " * @return {!Iterable<!Object>} Iterable of next steps.\n",
              " */\n",
              "function* uploadFilesStep(inputId, outputId) {\n",
              "  const inputElement = document.getElementById(inputId);\n",
              "  inputElement.disabled = false;\n",
              "\n",
              "  const outputElement = document.getElementById(outputId);\n",
              "  outputElement.innerHTML = '';\n",
              "\n",
              "  const pickedPromise = new Promise((resolve) => {\n",
              "    inputElement.addEventListener('change', (e) => {\n",
              "      resolve(e.target.files);\n",
              "    });\n",
              "  });\n",
              "\n",
              "  const cancel = document.createElement('button');\n",
              "  inputElement.parentElement.appendChild(cancel);\n",
              "  cancel.textContent = 'Cancel upload';\n",
              "  const cancelPromise = new Promise((resolve) => {\n",
              "    cancel.onclick = () => {\n",
              "      resolve(null);\n",
              "    };\n",
              "  });\n",
              "\n",
              "  // Wait for the user to pick the files.\n",
              "  const files = yield {\n",
              "    promise: Promise.race([pickedPromise, cancelPromise]),\n",
              "    response: {\n",
              "      action: 'starting',\n",
              "    }\n",
              "  };\n",
              "\n",
              "  cancel.remove();\n",
              "\n",
              "  // Disable the input element since further picks are not allowed.\n",
              "  inputElement.disabled = true;\n",
              "\n",
              "  if (!files) {\n",
              "    return {\n",
              "      response: {\n",
              "        action: 'complete',\n",
              "      }\n",
              "    };\n",
              "  }\n",
              "\n",
              "  for (const file of files) {\n",
              "    const li = document.createElement('li');\n",
              "    li.append(span(file.name, {fontWeight: 'bold'}));\n",
              "    li.append(span(\n",
              "        `(${file.type || 'n/a'}) - ${file.size} bytes, ` +\n",
              "        `last modified: ${\n",
              "            file.lastModifiedDate ? file.lastModifiedDate.toLocaleDateString() :\n",
              "                                    'n/a'} - `));\n",
              "    const percent = span('0% done');\n",
              "    li.appendChild(percent);\n",
              "\n",
              "    outputElement.appendChild(li);\n",
              "\n",
              "    const fileDataPromise = new Promise((resolve) => {\n",
              "      const reader = new FileReader();\n",
              "      reader.onload = (e) => {\n",
              "        resolve(e.target.result);\n",
              "      };\n",
              "      reader.readAsArrayBuffer(file);\n",
              "    });\n",
              "    // Wait for the data to be ready.\n",
              "    let fileData = yield {\n",
              "      promise: fileDataPromise,\n",
              "      response: {\n",
              "        action: 'continue',\n",
              "      }\n",
              "    };\n",
              "\n",
              "    // Use a chunked sending to avoid message size limits. See b/62115660.\n",
              "    let position = 0;\n",
              "    do {\n",
              "      const length = Math.min(fileData.byteLength - position, MAX_PAYLOAD_SIZE);\n",
              "      const chunk = new Uint8Array(fileData, position, length);\n",
              "      position += length;\n",
              "\n",
              "      const base64 = btoa(String.fromCharCode.apply(null, chunk));\n",
              "      yield {\n",
              "        response: {\n",
              "          action: 'append',\n",
              "          file: file.name,\n",
              "          data: base64,\n",
              "        },\n",
              "      };\n",
              "\n",
              "      let percentDone = fileData.byteLength === 0 ?\n",
              "          100 :\n",
              "          Math.round((position / fileData.byteLength) * 100);\n",
              "      percent.textContent = `${percentDone}% done`;\n",
              "\n",
              "    } while (position < fileData.byteLength);\n",
              "  }\n",
              "\n",
              "  // All done.\n",
              "  yield {\n",
              "    response: {\n",
              "      action: 'complete',\n",
              "    }\n",
              "  };\n",
              "}\n",
              "\n",
              "scope.google = scope.google || {};\n",
              "scope.google.colab = scope.google.colab || {};\n",
              "scope.google.colab._files = {\n",
              "  _uploadFiles,\n",
              "  _uploadFilesContinue,\n",
              "};\n",
              "})(self);\n",
              "</script> "
            ]
          },
          "metadata": {}
        },
        {
          "output_type": "stream",
          "name": "stdout",
          "text": [
            "Saving Untitled2.ipynb to Untitled2.ipynb\n"
          ]
        },
        {
          "output_type": "display_data",
          "data": {
            "text/plain": [
              "<IPython.core.display.Javascript object>"
            ],
            "application/javascript": [
              "\n",
              "    async function download(id, filename, size) {\n",
              "      if (!google.colab.kernel.accessAllowed) {\n",
              "        return;\n",
              "      }\n",
              "      const div = document.createElement('div');\n",
              "      const label = document.createElement('label');\n",
              "      label.textContent = `Downloading \"${filename}\": `;\n",
              "      div.appendChild(label);\n",
              "      const progress = document.createElement('progress');\n",
              "      progress.max = size;\n",
              "      div.appendChild(progress);\n",
              "      document.body.appendChild(div);\n",
              "\n",
              "      const buffers = [];\n",
              "      let downloaded = 0;\n",
              "\n",
              "      const channel = await google.colab.kernel.comms.open(id);\n",
              "      // Send a message to notify the kernel that we're ready.\n",
              "      channel.send({})\n",
              "\n",
              "      for await (const message of channel.messages) {\n",
              "        // Send a message to notify the kernel that we're ready.\n",
              "        channel.send({})\n",
              "        if (message.buffers) {\n",
              "          for (const buffer of message.buffers) {\n",
              "            buffers.push(buffer);\n",
              "            downloaded += buffer.byteLength;\n",
              "            progress.value = downloaded;\n",
              "          }\n",
              "        }\n",
              "      }\n",
              "      const blob = new Blob(buffers, {type: 'application/binary'});\n",
              "      const a = document.createElement('a');\n",
              "      a.href = window.URL.createObjectURL(blob);\n",
              "      a.download = filename;\n",
              "      div.appendChild(a);\n",
              "      a.click();\n",
              "      div.remove();\n",
              "    }\n",
              "  "
            ]
          },
          "metadata": {}
        },
        {
          "output_type": "display_data",
          "data": {
            "text/plain": [
              "<IPython.core.display.Javascript object>"
            ],
            "application/javascript": [
              "download(\"download_9a9fa080-1f5f-42aa-8a21-af3593f51c9a\", \"Untitled2.html\", 419765)"
            ]
          },
          "metadata": {}
        }
      ]
    }
  ]
}